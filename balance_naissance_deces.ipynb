{
 "cells": [
  {
   "cell_type": "markdown",
   "metadata": {},
   "source": [
    "# Comparaison naissance et décès"
   ]
  },
  {
   "cell_type": "code",
   "execution_count": 12,
   "metadata": {},
   "outputs": [],
   "source": [
    "import pandas as pd\n",
    "import numpy as np\n",
    "import datetime\n",
    "import matplotlib.pyplot as plt"
   ]
  },
  {
   "cell_type": "code",
   "execution_count": null,
   "metadata": {},
   "outputs": [],
   "source": []
  },
  {
   "cell_type": "markdown",
   "metadata": {},
   "source": [
    "## Naissances"
   ]
  },
  {
   "cell_type": "code",
   "execution_count": 2,
   "metadata": {},
   "outputs": [],
   "source": [
    "# naissance par mois\n",
    "naissance_ts= pd.read_csv(\"data_naissance/2021-04-30_naissance.csv\", index_col=0)"
   ]
  },
  {
   "cell_type": "code",
   "execution_count": 3,
   "metadata": {},
   "outputs": [],
   "source": [
    "# filtre sur les années 2000\n",
    "naissance_ts = naissance_ts[naissance_ts.index > '1999-12-12']\n",
    "naissance_ts.index = pd.to_datetime(naissance_ts.index)"
   ]
  },
  {
   "cell_type": "code",
   "execution_count": 4,
   "metadata": {},
   "outputs": [],
   "source": [
    "naissance_ts['mois'] = naissance_ts.index.month\n",
    "naissance_ts['annee'] = naissance_ts.index.year"
   ]
  },
  {
   "cell_type": "code",
   "execution_count": 5,
   "metadata": {},
   "outputs": [],
   "source": [
    "# extraploation"
   ]
  },
  {
   "cell_type": "code",
   "execution_count": 118,
   "metadata": {},
   "outputs": [],
   "source": [
    "from sklearn import linear_model\n",
    "def estimate_impact(rolling, date_min, date_max, data, label=\"\"):\n",
    "    # sample for extraploation\n",
    "    roll = rolling[(rolling.index > date_min) & (rolling.index < date_max)].reset_index()\n",
    "    print(roll.dtypes)\n",
    "    # regression lineaire sur la période date min date max\n",
    "    ######################################################\n",
    "    reg = linear_model.LinearRegression()\n",
    "    x = roll[['index']].copy()\n",
    "    # convert datetime to ordinal\n",
    "    x['index']=  x['index'].map(datetime.datetime.toordinal)\n",
    "    Y = roll[[data]].copy()\n",
    "    \n",
    "    # make it fit\n",
    "    # ----------\n",
    "    reg.fit(x, Y )\n",
    "    \n",
    "    \n",
    "    # x_extra generated through date_range\n",
    "    x_extra = pd.date_range(date_min, \"2021-12-31\", freq=\"MS\")\n",
    "    x_extra = pd.DataFrame(x_extra)\n",
    "    x_extra = x_extra[[0]].copy()\n",
    "    # to ordinal for it to work\n",
    "    x_extra[0] = x_extra[0].map(datetime.datetime.toordinal)\n",
    "    \n",
    "    # predictions\n",
    "    # -----------\n",
    "    y_extra = reg.predict(x_extra)\n",
    "    \n",
    "    \n",
    "    # return a data frame\n",
    "    df_ = pd.DataFrame(index=x_extra[0].map(datetime.datetime.fromordinal), data=y_extra)\n",
    "    df_.columns = [label]\n",
    "    df_.index.name = \"\"\n",
    "    return df_"
   ]
  },
  {
   "cell_type": "code",
   "execution_count": 7,
   "metadata": {},
   "outputs": [],
   "source": [
    "def impact_today(rolling, predict, label=\"\"):\n",
    "    last_date = rolling.index.max()\n",
    "    impact = rolling.loc[last_date,:][0] - predict.loc[last_date,:][0]\n",
    "    print(f\"at date {last_date}, impact of COVID19 on {label} is {impact}\")\n",
    "    return impact"
   ]
  },
  {
   "cell_type": "markdown",
   "metadata": {},
   "source": [
    "## extrapolate birth on 2020 and onward"
   ]
  },
  {
   "cell_type": "code",
   "execution_count": 8,
   "metadata": {},
   "outputs": [],
   "source": [
    "# Calcul impact COVID sur les naissances"
   ]
  },
  {
   "cell_type": "code",
   "execution_count": 9,
   "metadata": {},
   "outputs": [],
   "source": [
    "rolling_annual_birth = naissance_ts.rolling(12).sum()\n",
    "rolling_annual_birth.drop(['annee','mois'], axis=1, inplace=True)"
   ]
  },
  {
   "cell_type": "code",
   "execution_count": 48,
   "metadata": {},
   "outputs": [
    {
     "data": {
      "text/html": [
       "<div>\n",
       "<style scoped>\n",
       "    .dataframe tbody tr th:only-of-type {\n",
       "        vertical-align: middle;\n",
       "    }\n",
       "\n",
       "    .dataframe tbody tr th {\n",
       "        vertical-align: top;\n",
       "    }\n",
       "\n",
       "    .dataframe thead th {\n",
       "        text-align: right;\n",
       "    }\n",
       "</style>\n",
       "<table border=\"1\" class=\"dataframe\">\n",
       "  <thead>\n",
       "    <tr style=\"text-align: right;\">\n",
       "      <th></th>\n",
       "      <th>naissance</th>\n",
       "    </tr>\n",
       "  </thead>\n",
       "  <tbody>\n",
       "    <tr>\n",
       "      <th>2000-01-01</th>\n",
       "      <td>NaN</td>\n",
       "    </tr>\n",
       "    <tr>\n",
       "      <th>2000-02-01</th>\n",
       "      <td>NaN</td>\n",
       "    </tr>\n",
       "    <tr>\n",
       "      <th>2000-03-01</th>\n",
       "      <td>NaN</td>\n",
       "    </tr>\n",
       "    <tr>\n",
       "      <th>2000-04-01</th>\n",
       "      <td>NaN</td>\n",
       "    </tr>\n",
       "    <tr>\n",
       "      <th>2000-05-01</th>\n",
       "      <td>NaN</td>\n",
       "    </tr>\n",
       "    <tr>\n",
       "      <th>...</th>\n",
       "      <td>...</td>\n",
       "    </tr>\n",
       "    <tr>\n",
       "      <th>2020-11-01</th>\n",
       "      <td>701499.0</td>\n",
       "    </tr>\n",
       "    <tr>\n",
       "      <th>2020-12-01</th>\n",
       "      <td>697000.0</td>\n",
       "    </tr>\n",
       "    <tr>\n",
       "      <th>2021-01-01</th>\n",
       "      <td>689200.0</td>\n",
       "    </tr>\n",
       "    <tr>\n",
       "      <th>2021-02-01</th>\n",
       "      <td>684700.0</td>\n",
       "    </tr>\n",
       "    <tr>\n",
       "      <th>2021-03-01</th>\n",
       "      <td>684800.0</td>\n",
       "    </tr>\n",
       "  </tbody>\n",
       "</table>\n",
       "<p>255 rows × 1 columns</p>\n",
       "</div>"
      ],
      "text/plain": [
       "            naissance\n",
       "2000-01-01        NaN\n",
       "2000-02-01        NaN\n",
       "2000-03-01        NaN\n",
       "2000-04-01        NaN\n",
       "2000-05-01        NaN\n",
       "...               ...\n",
       "2020-11-01   701499.0\n",
       "2020-12-01   697000.0\n",
       "2021-01-01   689200.0\n",
       "2021-02-01   684700.0\n",
       "2021-03-01   684800.0\n",
       "\n",
       "[255 rows x 1 columns]"
      ]
     },
     "execution_count": 48,
     "metadata": {},
     "output_type": "execute_result"
    }
   ],
   "source": [
    "rolling_annual_birth"
   ]
  },
  {
   "cell_type": "code",
   "execution_count": 164,
   "metadata": {},
   "outputs": [
    {
     "name": "stdout",
     "output_type": "stream",
     "text": [
      "index        datetime64[ns]\n",
      "naissance           float64\n",
      "dtype: object\n"
     ]
    }
   ],
   "source": [
    "estimated_birth = estimate_impact(rolling_annual_birth, \"2012-06-01\", \"2019-12-31\", 'naissance', 'estimated_birth')"
   ]
  },
  {
   "cell_type": "code",
   "execution_count": 165,
   "metadata": {},
   "outputs": [
    {
     "data": {
      "image/png": "[encoded data removed]",
      "text/plain": [
       "<Figure size 1152x720 with 1 Axes>"
      ]
     },
     "metadata": {
      "needs_background": "light"
     },
     "output_type": "display_data"
    }
   ],
   "source": [
    "fig, ax = plt.subplots(figsize=(16,10))\n",
    "ax.plot(rolling_annual_birth['naissance'], label='naissance')\n",
    "ax.plot(estimated_birth, label='extrapolation')\n",
    "ax.set_title(\"Evolution des naissances mensuelles\")\n",
    "\n",
    "ax.legend()\n",
    "ax.grid()\n",
    "plt.show()"
   ]
  },
  {
   "cell_type": "code",
   "execution_count": 157,
   "metadata": {},
   "outputs": [
    {
     "name": "stdout",
     "output_type": "stream",
     "text": [
      "at date 2021-03-01 00:00:00, impact of COVID19 on  is -6051.073145445436\n"
     ]
    }
   ],
   "source": [
    "impact_naissance = impact_today(rolling_annual_birth, estimated_birth)"
   ]
  },
  {
   "cell_type": "markdown",
   "metadata": {},
   "source": [
    "## etude sur les décés"
   ]
  },
  {
   "cell_type": "code",
   "execution_count": 65,
   "metadata": {},
   "outputs": [],
   "source": [
    "# Calcul impact COVID sur les décés"
   ]
  },
  {
   "cell_type": "code",
   "execution_count": 66,
   "metadata": {},
   "outputs": [],
   "source": [
    "# Données historiques en TS\n",
    "# - histo_deces.csv jusqu'au 31/12/2019\n",
    "# - 2020 : df_2020\n",
    "# - données réa 2021 : df_2021"
   ]
  },
  {
   "cell_type": "code",
   "execution_count": 46,
   "metadata": {},
   "outputs": [
    {
     "data": {
      "text/html": [
       "<div>\n",
       "<style scoped>\n",
       "    .dataframe tbody tr th:only-of-type {\n",
       "        vertical-align: middle;\n",
       "    }\n",
       "\n",
       "    .dataframe tbody tr th {\n",
       "        vertical-align: top;\n",
       "    }\n",
       "\n",
       "    .dataframe thead th {\n",
       "        text-align: right;\n",
       "    }\n",
       "</style>\n",
       "<table border=\"1\" class=\"dataframe\">\n",
       "  <thead>\n",
       "    <tr style=\"text-align: right;\">\n",
       "      <th></th>\n",
       "      <th>2020</th>\n",
       "      <th>2021</th>\n",
       "    </tr>\n",
       "    <tr>\n",
       "      <th>Date_evenement</th>\n",
       "      <th></th>\n",
       "      <th></th>\n",
       "    </tr>\n",
       "  </thead>\n",
       "  <tbody>\n",
       "    <tr>\n",
       "      <th>01/01/2021</th>\n",
       "      <td>1900</td>\n",
       "      <td>2140.0</td>\n",
       "    </tr>\n",
       "    <tr>\n",
       "      <th>02/01/2021</th>\n",
       "      <td>3795</td>\n",
       "      <td>4194.0</td>\n",
       "    </tr>\n",
       "    <tr>\n",
       "      <th>03/01/2021</th>\n",
       "      <td>5744</td>\n",
       "      <td>6343.0</td>\n",
       "    </tr>\n",
       "    <tr>\n",
       "      <th>04/01/2021</th>\n",
       "      <td>7569</td>\n",
       "      <td>8538.0</td>\n",
       "    </tr>\n",
       "    <tr>\n",
       "      <th>05/01/2021</th>\n",
       "      <td>9304</td>\n",
       "      <td>10712.0</td>\n",
       "    </tr>\n",
       "    <tr>\n",
       "      <th>...</th>\n",
       "      <td>...</td>\n",
       "      <td>...</td>\n",
       "    </tr>\n",
       "    <tr>\n",
       "      <th>27/12/2021</th>\n",
       "      <td>660675</td>\n",
       "      <td>NaN</td>\n",
       "    </tr>\n",
       "    <tr>\n",
       "      <th>28/12/2021</th>\n",
       "      <td>662849</td>\n",
       "      <td>NaN</td>\n",
       "    </tr>\n",
       "    <tr>\n",
       "      <th>29/12/2021</th>\n",
       "      <td>664923</td>\n",
       "      <td>NaN</td>\n",
       "    </tr>\n",
       "    <tr>\n",
       "      <th>30/12/2021</th>\n",
       "      <td>666979</td>\n",
       "      <td>NaN</td>\n",
       "    </tr>\n",
       "    <tr>\n",
       "      <th>31/12/2021</th>\n",
       "      <td>668996</td>\n",
       "      <td>NaN</td>\n",
       "    </tr>\n",
       "  </tbody>\n",
       "</table>\n",
       "<p>366 rows × 2 columns</p>\n",
       "</div>"
      ],
      "text/plain": [
       "                  2020     2021\n",
       "Date_evenement                 \n",
       "01/01/2021        1900   2140.0\n",
       "02/01/2021        3795   4194.0\n",
       "03/01/2021        5744   6343.0\n",
       "04/01/2021        7569   8538.0\n",
       "05/01/2021        9304  10712.0\n",
       "...                ...      ...\n",
       "27/12/2021      660675      NaN\n",
       "28/12/2021      662849      NaN\n",
       "29/12/2021      664923      NaN\n",
       "30/12/2021      666979      NaN\n",
       "31/12/2021      668996      NaN\n",
       "\n",
       "[366 rows x 2 columns]"
      ]
     },
     "execution_count": 46,
     "metadata": {},
     "output_type": "execute_result"
    }
   ],
   "source": [
    "insee_file = \"2021-05-07_deces_quotidiens_departement_csv.csv\"\n",
    "df_insee = pd.read_csv(\"./Data_FR_Deaths/\" + insee_file, delimiter=\";\", index_col=\"Date_evenement\", encoding='iso-8859-1')\n",
    "df_insee.drop([\"Communes_a_envoi_dematerialise_Deces2019\",\"Total_deces_2019\"],axis=1,inplace=True)\n",
    "df_insee.reset_index(inplace=True)\n",
    "\n",
    "replace_list = [('-janv.','/01/2021'),('-févr.','/02/2021'),('-mar.','/03/2021'),('-avr.','/04/2021'),('-mai','/05/2021'),('-juin','/06/2021'),('-juil.','/07/2021'),\n",
    "                ('-août','/08/2021'),('-sept.','/09/2021'),('-oct.','/10/2021'),('-nov.','/11/2021'),('-déc.','/12/2021')]\n",
    "for m, r in replace_list:\n",
    "    df_insee['Date_evenement'].replace(to_replace=m, value = r, regex = True, inplace=True)\n",
    "\n",
    "df_insee.set_index('Date_evenement', inplace=True)\n",
    "df_insee = df_insee[df_insee[\"Zone\"]==\"France\"][[\"Total_deces_2020\",\"Total_deces_2021\"]]\n",
    "df_insee.sort_index(axis=1,inplace=True)\n",
    "df_insee.columns = [2020, 2021]\n",
    "df_insee"
   ]
  },
  {
   "cell_type": "code",
   "execution_count": 51,
   "metadata": {},
   "outputs": [
    {
     "data": {
      "text/html": [
       "<div>\n",
       "<style scoped>\n",
       "    .dataframe tbody tr th:only-of-type {\n",
       "        vertical-align: middle;\n",
       "    }\n",
       "\n",
       "    .dataframe tbody tr th {\n",
       "        vertical-align: top;\n",
       "    }\n",
       "\n",
       "    .dataframe thead th {\n",
       "        text-align: right;\n",
       "    }\n",
       "</style>\n",
       "<table border=\"1\" class=\"dataframe\">\n",
       "  <thead>\n",
       "    <tr style=\"text-align: right;\">\n",
       "      <th></th>\n",
       "      <th>index</th>\n",
       "      <th>nbr_deces</th>\n",
       "    </tr>\n",
       "  </thead>\n",
       "  <tbody>\n",
       "    <tr>\n",
       "      <th>0</th>\n",
       "      <td>2021-01-01</td>\n",
       "      <td>2140.0</td>\n",
       "    </tr>\n",
       "    <tr>\n",
       "      <th>1</th>\n",
       "      <td>2021-01-02</td>\n",
       "      <td>2054.0</td>\n",
       "    </tr>\n",
       "    <tr>\n",
       "      <th>2</th>\n",
       "      <td>2021-01-03</td>\n",
       "      <td>2149.0</td>\n",
       "    </tr>\n",
       "    <tr>\n",
       "      <th>3</th>\n",
       "      <td>2021-01-04</td>\n",
       "      <td>2195.0</td>\n",
       "    </tr>\n",
       "    <tr>\n",
       "      <th>4</th>\n",
       "      <td>2021-01-05</td>\n",
       "      <td>2174.0</td>\n",
       "    </tr>\n",
       "    <tr>\n",
       "      <th>...</th>\n",
       "      <td>...</td>\n",
       "      <td>...</td>\n",
       "    </tr>\n",
       "    <tr>\n",
       "      <th>360</th>\n",
       "      <td>2021-12-27</td>\n",
       "      <td>NaN</td>\n",
       "    </tr>\n",
       "    <tr>\n",
       "      <th>361</th>\n",
       "      <td>2021-12-28</td>\n",
       "      <td>NaN</td>\n",
       "    </tr>\n",
       "    <tr>\n",
       "      <th>362</th>\n",
       "      <td>2021-12-29</td>\n",
       "      <td>NaN</td>\n",
       "    </tr>\n",
       "    <tr>\n",
       "      <th>363</th>\n",
       "      <td>2021-12-30</td>\n",
       "      <td>NaN</td>\n",
       "    </tr>\n",
       "    <tr>\n",
       "      <th>364</th>\n",
       "      <td>2021-12-31</td>\n",
       "      <td>NaN</td>\n",
       "    </tr>\n",
       "  </tbody>\n",
       "</table>\n",
       "<p>365 rows × 2 columns</p>\n",
       "</div>"
      ],
      "text/plain": [
       "         index  nbr_deces\n",
       "0   2021-01-01     2140.0\n",
       "1   2021-01-02     2054.0\n",
       "2   2021-01-03     2149.0\n",
       "3   2021-01-04     2195.0\n",
       "4   2021-01-05     2174.0\n",
       "..         ...        ...\n",
       "360 2021-12-27        NaN\n",
       "361 2021-12-28        NaN\n",
       "362 2021-12-29        NaN\n",
       "363 2021-12-30        NaN\n",
       "364 2021-12-31        NaN\n",
       "\n",
       "[365 rows x 2 columns]"
      ]
     },
     "execution_count": 51,
     "metadata": {},
     "output_type": "execute_result"
    }
   ],
   "source": [
    "df_2021 = pd.DataFrame(df_insee[2021])\n",
    "df_2021.drop(\"29/02/2021\", inplace=True)\n",
    "df_2021 = df_2021.diff()\n",
    "df_2021.loc[\"01/01/2021\",2021]=df_insee.loc[\"01/01/2021\",2021]\n",
    "df_2021 = df_2021.reset_index()\n",
    "df_2021.columns = ['index', 'nbr_deces' ]\n",
    "df_2021['index'] = pd.to_datetime(df_2021['index'], dayfirst=True)\n",
    "df_2021"
   ]
  },
  {
   "cell_type": "code",
   "execution_count": 148,
   "metadata": {},
   "outputs": [],
   "source": [
    "death_ts = pd.read_csv(\"./Data_FR_Deaths/\" + 'histo_deces.csv', index_col = 0)\n",
    "# on enleve les problèmes de formatage et les données avant 2000 et avant 2020\n",
    "death_ts = death_ts.filter(regex = '20[0-1][0-9]\\-[0-1][0-9]\\-[0-3][0-9]', axis=0)\n",
    "death_ts.index = pd.DatetimeIndex(death_ts.index)\n",
    "# Add info for reference\n",
    "death_ts.reset_index(inplace=True)\n",
    "death_ts.columns = ['index', 'nbr_deces' ]\n",
    "#death_ts = death_ts[death_ts['index']<'2020-01-01']\n",
    "\n",
    "# 2020\n",
    "tmp = pd.read_csv(\"Data_FR_Deaths/deces_2020.csv\", index_col=0, parse_dates=[0]).reset_index()\n",
    "#death_ts.columns = ['index', 'nbr_deces' ]\n",
    "tmp.columns =['index', 'nbr_deces' ]\n",
    "death_ts= death_ts.append(tmp)\n",
    "# 2021\n",
    "death_ts= death_ts.append(df_2021)\n",
    "\n",
    "# filtre sur les bonnes dates\n",
    "death_ts['index'] = pd.to_datetime(death_ts['index'], dayfirst=True)\n",
    "death_ts.dropna(axis=0, inplace=True)\n",
    "\n",
    "#death_ts = death_ts[death_ts['index']<'2020-01-01']"
   ]
  },
  {
   "cell_type": "code",
   "execution_count": 149,
   "metadata": {},
   "outputs": [
    {
     "data": {
      "text/html": [
       "<div>\n",
       "<style scoped>\n",
       "    .dataframe tbody tr th:only-of-type {\n",
       "        vertical-align: middle;\n",
       "    }\n",
       "\n",
       "    .dataframe tbody tr th {\n",
       "        vertical-align: top;\n",
       "    }\n",
       "\n",
       "    .dataframe thead th {\n",
       "        text-align: right;\n",
       "    }\n",
       "</style>\n",
       "<table border=\"1\" class=\"dataframe\">\n",
       "  <thead>\n",
       "    <tr style=\"text-align: right;\">\n",
       "      <th></th>\n",
       "      <th>index</th>\n",
       "      <th>nbr_deces</th>\n",
       "    </tr>\n",
       "  </thead>\n",
       "  <tbody>\n",
       "    <tr>\n",
       "      <th>0</th>\n",
       "      <td>2000-01-01</td>\n",
       "      <td>1974.0</td>\n",
       "    </tr>\n",
       "    <tr>\n",
       "      <th>1</th>\n",
       "      <td>2000-01-02</td>\n",
       "      <td>2040.0</td>\n",
       "    </tr>\n",
       "    <tr>\n",
       "      <th>2</th>\n",
       "      <td>2000-01-03</td>\n",
       "      <td>2086.0</td>\n",
       "    </tr>\n",
       "    <tr>\n",
       "      <th>3</th>\n",
       "      <td>2000-01-04</td>\n",
       "      <td>2080.0</td>\n",
       "    </tr>\n",
       "    <tr>\n",
       "      <th>4</th>\n",
       "      <td>2000-01-05</td>\n",
       "      <td>2039.0</td>\n",
       "    </tr>\n",
       "    <tr>\n",
       "      <th>...</th>\n",
       "      <td>...</td>\n",
       "      <td>...</td>\n",
       "    </tr>\n",
       "    <tr>\n",
       "      <th>111</th>\n",
       "      <td>2021-04-22</td>\n",
       "      <td>1779.0</td>\n",
       "    </tr>\n",
       "    <tr>\n",
       "      <th>112</th>\n",
       "      <td>2021-04-23</td>\n",
       "      <td>1779.0</td>\n",
       "    </tr>\n",
       "    <tr>\n",
       "      <th>113</th>\n",
       "      <td>2021-04-24</td>\n",
       "      <td>1722.0</td>\n",
       "    </tr>\n",
       "    <tr>\n",
       "      <th>114</th>\n",
       "      <td>2021-04-25</td>\n",
       "      <td>1653.0</td>\n",
       "    </tr>\n",
       "    <tr>\n",
       "      <th>115</th>\n",
       "      <td>2021-04-26</td>\n",
       "      <td>1692.0</td>\n",
       "    </tr>\n",
       "  </tbody>\n",
       "</table>\n",
       "<p>7787 rows × 2 columns</p>\n",
       "</div>"
      ],
      "text/plain": [
       "         index  nbr_deces\n",
       "0   2000-01-01     1974.0\n",
       "1   2000-01-02     2040.0\n",
       "2   2000-01-03     2086.0\n",
       "3   2000-01-04     2080.0\n",
       "4   2000-01-05     2039.0\n",
       "..         ...        ...\n",
       "111 2021-04-22     1779.0\n",
       "112 2021-04-23     1779.0\n",
       "113 2021-04-24     1722.0\n",
       "114 2021-04-25     1653.0\n",
       "115 2021-04-26     1692.0\n",
       "\n",
       "[7787 rows x 2 columns]"
      ]
     },
     "execution_count": 149,
     "metadata": {},
     "output_type": "execute_result"
    }
   ],
   "source": [
    "death_ts"
   ]
  },
  {
   "cell_type": "code",
   "execution_count": 150,
   "metadata": {},
   "outputs": [],
   "source": [
    "def todate(r):\n",
    "    if r['mois']< 10:\n",
    "        return datetime.datetime.fromisoformat(str(r['annee'])+\"-0\"+str(r['mois'])+\"-01\")\n",
    "    else:\n",
    "        return datetime.datetime.fromisoformat(str(r['annee'])+\"-\"+str(r['mois'])+\"-01\")"
   ]
  },
  {
   "cell_type": "code",
   "execution_count": 151,
   "metadata": {},
   "outputs": [],
   "source": [
    "\n",
    "death_ts['mois'] = death_ts['index'].dt.month\n",
    "death_ts['annee'] = death_ts['index'].dt.year\n",
    "death_ts['date'] = death_ts.apply(todate, axis=1)\n",
    "death_ts.drop(['annee','mois'],axis=1,inplace=True)\n",
    "death_ts = death_ts.groupby(['date']).sum()\n",
    "\n",
    "death_ts.index.name=\"index\""
   ]
  },
  {
   "cell_type": "code",
   "execution_count": 152,
   "metadata": {},
   "outputs": [],
   "source": [
    "rolling_annual_death= death_ts.rolling(12).sum()\n",
    "#rolling_annual_death= rolling_annual_death.reset_index()\n",
    "#rolling_annual_death.columns = ['index','nbr_deces']\n",
    "#olling_annual_birth.drop(['annee','mois'], axis=1, inplace=True)"
   ]
  },
  {
   "cell_type": "code",
   "execution_count": 153,
   "metadata": {},
   "outputs": [
    {
     "data": {
      "text/html": [
       "<div>\n",
       "<style scoped>\n",
       "    .dataframe tbody tr th:only-of-type {\n",
       "        vertical-align: middle;\n",
       "    }\n",
       "\n",
       "    .dataframe tbody tr th {\n",
       "        vertical-align: top;\n",
       "    }\n",
       "\n",
       "    .dataframe thead th {\n",
       "        text-align: right;\n",
       "    }\n",
       "</style>\n",
       "<table border=\"1\" class=\"dataframe\">\n",
       "  <thead>\n",
       "    <tr style=\"text-align: right;\">\n",
       "      <th></th>\n",
       "      <th>index</th>\n",
       "      <th>nbr_deces</th>\n",
       "    </tr>\n",
       "  </thead>\n",
       "  <tbody>\n",
       "    <tr>\n",
       "      <th>0</th>\n",
       "      <td>2000-01-01</td>\n",
       "      <td>NaN</td>\n",
       "    </tr>\n",
       "    <tr>\n",
       "      <th>1</th>\n",
       "      <td>2000-02-01</td>\n",
       "      <td>NaN</td>\n",
       "    </tr>\n",
       "    <tr>\n",
       "      <th>2</th>\n",
       "      <td>2000-03-01</td>\n",
       "      <td>NaN</td>\n",
       "    </tr>\n",
       "    <tr>\n",
       "      <th>3</th>\n",
       "      <td>2000-04-01</td>\n",
       "      <td>NaN</td>\n",
       "    </tr>\n",
       "    <tr>\n",
       "      <th>4</th>\n",
       "      <td>2000-05-01</td>\n",
       "      <td>NaN</td>\n",
       "    </tr>\n",
       "    <tr>\n",
       "      <th>...</th>\n",
       "      <td>...</td>\n",
       "      <td>...</td>\n",
       "    </tr>\n",
       "    <tr>\n",
       "      <th>251</th>\n",
       "      <td>2020-12-01</td>\n",
       "      <td>667361.0</td>\n",
       "    </tr>\n",
       "    <tr>\n",
       "      <th>252</th>\n",
       "      <td>2021-01-01</td>\n",
       "      <td>676660.0</td>\n",
       "    </tr>\n",
       "    <tr>\n",
       "      <th>253</th>\n",
       "      <td>2021-02-01</td>\n",
       "      <td>682409.0</td>\n",
       "    </tr>\n",
       "    <tr>\n",
       "      <th>254</th>\n",
       "      <td>2021-03-01</td>\n",
       "      <td>677587.0</td>\n",
       "    </tr>\n",
       "    <tr>\n",
       "      <th>255</th>\n",
       "      <td>2021-04-01</td>\n",
       "      <td>658518.0</td>\n",
       "    </tr>\n",
       "  </tbody>\n",
       "</table>\n",
       "<p>256 rows × 2 columns</p>\n",
       "</div>"
      ],
      "text/plain": [
       "         index  nbr_deces\n",
       "0   2000-01-01        NaN\n",
       "1   2000-02-01        NaN\n",
       "2   2000-03-01        NaN\n",
       "3   2000-04-01        NaN\n",
       "4   2000-05-01        NaN\n",
       "..         ...        ...\n",
       "251 2020-12-01   667361.0\n",
       "252 2021-01-01   676660.0\n",
       "253 2021-02-01   682409.0\n",
       "254 2021-03-01   677587.0\n",
       "255 2021-04-01   658518.0\n",
       "\n",
       "[256 rows x 2 columns]"
      ]
     },
     "execution_count": 153,
     "metadata": {},
     "output_type": "execute_result"
    }
   ],
   "source": [
    "rolling_annual_death.reset_index()"
   ]
  },
  {
   "cell_type": "code",
   "execution_count": 154,
   "metadata": {},
   "outputs": [
    {
     "name": "stdout",
     "output_type": "stream",
     "text": [
      "index        datetime64[ns]\n",
      "nbr_deces           float64\n",
      "dtype: object\n"
     ]
    }
   ],
   "source": [
    "estimated_death = estimate_impact(rolling_annual_death, \"2010-01-01\", \"2019-12-31\", \"nbr_deces\", 'estimated_death')"
   ]
  },
  {
   "cell_type": "code",
   "execution_count": 160,
   "metadata": {},
   "outputs": [
    {
     "data": {
      "image/png": "[encoded data removed]",
      "text/plain": [
       "<Figure size 1152x720 with 1 Axes>"
      ]
     },
     "metadata": {
      "needs_background": "light"
     },
     "output_type": "display_data"
    }
   ],
   "source": [
    "fig, ax = plt.subplots(figsize=(16,10))\n",
    "ax.plot(rolling_annual_death['nbr_deces'], label='Decès')\n",
    "ax.plot(estimated_death, label='extrapolation')\n",
    "\n",
    "ax.set_title(\"Evolution des décès mensuels\")\n",
    "ax.legend()\n",
    "ax.grid()\n",
    "plt.show()"
   ]
  },
  {
   "cell_type": "code",
   "execution_count": 166,
   "metadata": {},
   "outputs": [
    {
     "name": "stdout",
     "output_type": "stream",
     "text": [
      "at date 2021-04-01 00:00:00, impact of COVID19 on Deaths is 21225.12945511192\n"
     ]
    }
   ],
   "source": [
    "impact_deces = impact_today(rolling_annual_death, estimated_death, \"Deaths\")"
   ]
  },
  {
   "cell_type": "code",
   "execution_count": 168,
   "metadata": {},
   "outputs": [
    {
     "name": "stdout",
     "output_type": "stream",
     "text": [
      "Impact total covid à fin Avril 2021\n",
      "-----------------------------------\n",
      "Naissance :  -6051.073145445436\n",
      "Décès :  21225.12945511192\n",
      "\n",
      "---------------------\n",
      "Impact global population :  -27276.202600557357\n"
     ]
    }
   ],
   "source": [
    "# balance nette covid\n",
    "print(\"Impact total covid à fin Avril 2021\")\n",
    "print(\"-----------------------------------\")\n",
    "print(\"Naissance : \", impact_naissance)\n",
    "print(\"Décès : \", impact_deces)\n",
    "print()\n",
    "print(\"---------------------\")\n",
    "print(\"Impact global population : \", impact_naissance-impact_deces)"
   ]
  },
  {
   "cell_type": "code",
   "execution_count": null,
   "metadata": {},
   "outputs": [],
   "source": []
  }
 ],
 "metadata": {
  "kernelspec": {
   "display_name": "Python 3",
   "language": "python",
   "name": "python3"
  },
  "language_info": {
   "codemirror_mode": {
    "name": "ipython",
    "version": 3
   },
   "file_extension": ".py",
   "mimetype": "text/x-python",
   "name": "python",
   "nbconvert_exporter": "python",
   "pygments_lexer": "ipython3",
   "version": "3.8.5"
  }
 },
 "nbformat": 4,
 "nbformat_minor": 4
}
