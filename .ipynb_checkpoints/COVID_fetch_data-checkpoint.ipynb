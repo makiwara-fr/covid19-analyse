{
 "cells": [
  {
   "cell_type": "code",
   "execution_count": 103,
   "metadata": {},
   "outputs": [],
   "source": [
    "import pandas as pd"
   ]
  },
  {
   "cell_type": "markdown",
   "metadata": {},
   "source": [
    "\n",
    "## Get data from Johns Hopkins"
   ]
  },
  {
   "cell_type": "code",
   "execution_count": 104,
   "metadata": {},
   "outputs": [
    {
     "name": "stdout",
     "output_type": "stream",
     "text": [
      "From https://github.com/CSSEGISandData/COVID-19\n",
      " * branch            master     -> FETCH_HEAD\n",
      "Already up to date.\n"
     ]
    }
   ],
   "source": [
    "#!git clone https://github.com/CSSEGISandData/COVID-19.git \n",
    "!cd COVID-19 && git pull origin master"
   ]
  },
  {
   "cell_type": "code",
   "execution_count": 137,
   "metadata": {},
   "outputs": [],
   "source": [
    "df_corona_temp = pd.read_csv(\"./COVID-19/csse_covid_19_data/csse_covid_19_time_series/time_series_19-covid-Confirmed.csv\")"
   ]
  },
  {
   "cell_type": "markdown",
   "metadata": {},
   "source": [
    "### retreat data structure"
   ]
  },
  {
   "cell_type": "code",
   "execution_count": 138,
   "metadata": {},
   "outputs": [],
   "source": [
    "df_corona_temp = df_corona_temp.groupby(by=\"Country/Region\").sum()\n",
    "df_corona_temp.drop(['Lat','Long'], axis=1, inplace=True)\n",
    "df_corona_temp.fillna(0, inplace=True)\n",
    "df_corona_temp.index.name = None\n",
    "df_corona_temp.columns = pd.to_datetime(df_corona_temp.columns)\n",
    "df_corona_temp.rename(index={'Mainland China':'China', 'Korea, South': 'South Korea'},inplace=True)\n",
    "df_corona_temp.columns = "
   ]
  },
  {
   "cell_type": "code",
   "execution_count": 140,
   "metadata": {},
   "outputs": [
    {
     "data": {
      "text/plain": [
       "(125, 52)"
      ]
     },
     "execution_count": 140,
     "metadata": {},
     "output_type": "execute_result"
    }
   ],
   "source": [
    "df_corona_temp.shape"
   ]
  },
  {
   "cell_type": "markdown",
   "metadata": {},
   "source": [
    "### Transform colums as lines"
   ]
  },
  {
   "cell_type": "code",
   "execution_count": 141,
   "metadata": {},
   "outputs": [],
   "source": [
    "serie_corona = df_corona_temp.stack()"
   ]
  },
  {
   "cell_type": "code",
   "execution_count": 150,
   "metadata": {},
   "outputs": [],
   "source": [
    "# back to df \n",
    "df_corona = pd.DataFrame(serie_corona)\n",
    "\n",
    "df_corona.reset_index(inplace=True)\n",
    "df_corona.columns = ['country', 'date','cases']"
   ]
  },
  {
   "cell_type": "code",
   "execution_count": 151,
   "metadata": {},
   "outputs": [
    {
     "data": {
      "text/html": [
       "<div>\n",
       "<style scoped>\n",
       "    .dataframe tbody tr th:only-of-type {\n",
       "        vertical-align: middle;\n",
       "    }\n",
       "\n",
       "    .dataframe tbody tr th {\n",
       "        vertical-align: top;\n",
       "    }\n",
       "\n",
       "    .dataframe thead th {\n",
       "        text-align: right;\n",
       "    }\n",
       "</style>\n",
       "<table border=\"1\" class=\"dataframe\">\n",
       "  <thead>\n",
       "    <tr style=\"text-align: right;\">\n",
       "      <th></th>\n",
       "      <th>country</th>\n",
       "      <th>date</th>\n",
       "      <th>cases</th>\n",
       "    </tr>\n",
       "  </thead>\n",
       "  <tbody>\n",
       "    <tr>\n",
       "      <th>0</th>\n",
       "      <td>Afghanistan</td>\n",
       "      <td>2020-01-22</td>\n",
       "      <td>0</td>\n",
       "    </tr>\n",
       "    <tr>\n",
       "      <th>1</th>\n",
       "      <td>Afghanistan</td>\n",
       "      <td>2020-01-23</td>\n",
       "      <td>0</td>\n",
       "    </tr>\n",
       "    <tr>\n",
       "      <th>2</th>\n",
       "      <td>Afghanistan</td>\n",
       "      <td>2020-01-24</td>\n",
       "      <td>0</td>\n",
       "    </tr>\n",
       "    <tr>\n",
       "      <th>3</th>\n",
       "      <td>Afghanistan</td>\n",
       "      <td>2020-01-25</td>\n",
       "      <td>0</td>\n",
       "    </tr>\n",
       "    <tr>\n",
       "      <th>4</th>\n",
       "      <td>Afghanistan</td>\n",
       "      <td>2020-01-26</td>\n",
       "      <td>0</td>\n",
       "    </tr>\n",
       "  </tbody>\n",
       "</table>\n",
       "</div>"
      ],
      "text/plain": [
       "       country       date  cases\n",
       "0  Afghanistan 2020-01-22      0\n",
       "1  Afghanistan 2020-01-23      0\n",
       "2  Afghanistan 2020-01-24      0\n",
       "3  Afghanistan 2020-01-25      0\n",
       "4  Afghanistan 2020-01-26      0"
      ]
     },
     "execution_count": 151,
     "metadata": {},
     "output_type": "execute_result"
    }
   ],
   "source": [
    "# Checking data \n",
    "df_corona.head()"
   ]
  },
  {
   "cell_type": "markdown",
   "metadata": {},
   "source": [
    "## UN Data on population and density"
   ]
  },
  {
   "cell_type": "markdown",
   "metadata": {},
   "source": [
    "### Alignment of data"
   ]
  },
  {
   "cell_type": "code",
   "execution_count": 157,
   "metadata": {},
   "outputs": [],
   "source": [
    "def align_country_names(df):\n",
    "    ''' Align country names with CSSE reference'''\n",
    "    output = df.rename(columns={'Region, subregion, country or area *' : 'Country'})\n",
    "    output.set_index(\"Country\", inplace=True)\n",
    "    output.rename(index={'Republic of Korea' : 'South Korea', 'Iran (Islamic Republic of)': 'Iran', 'United States of America' : 'US', 'China, Taiwan Province of China' :'Taiwan','Russian Federation':'Russia','Viet Nam':'Vietnam'}, inplace=True)\n",
    "    # focus only at country level data\n",
    "    output = output[output['Type'] == 'Country/Area']\n",
    "    # return 2020 data olny\n",
    "    return output['2020']\n"
   ]
  },
  {
   "cell_type": "markdown",
   "metadata": {},
   "source": [
    "### Population"
   ]
  },
  {
   "cell_type": "code",
   "execution_count": 158,
   "metadata": {},
   "outputs": [],
   "source": [
    "df_wp_temp = pd.read_excel(\"./UN data/population_world.xlsx\", sheet_name = 'ESTIMATES', skiprows= range(0,16))"
   ]
  },
  {
   "cell_type": "code",
   "execution_count": 159,
   "metadata": {},
   "outputs": [
    {
     "data": {
      "text/plain": [
       "Country\n",
       "Burundi                      11890.8\n",
       "Comoros                      869.595\n",
       "Djibouti                     988.002\n",
       "Eritrea                      3546.43\n",
       "Ethiopia                      114964\n",
       "                              ...   \n",
       "Bermuda                       62.273\n",
       "Canada                       37742.2\n",
       "Greenland                     56.772\n",
       "Saint Pierre and Miquelon      5.795\n",
       "US                            331003\n",
       "Name: 2020, Length: 235, dtype: object"
      ]
     },
     "execution_count": 159,
     "metadata": {},
     "output_type": "execute_result"
    }
   ],
   "source": [
    "serie_wp = align_country_names(df_wp_temp)\n",
    "#check data\n",
    "serie_wp"
   ]
  },
  {
   "cell_type": "markdown",
   "metadata": {},
   "source": [
    "### Density data"
   ]
  },
  {
   "cell_type": "code",
   "execution_count": 160,
   "metadata": {},
   "outputs": [],
   "source": [
    "serie_density = align_country_names(pd.read_excel(\"./UN data/WPP2019_POP_F06_POPULATION_DENSITY.xlsx\", sheet_name = 'ESTIMATES', skiprows= range(0,16)))"
   ]
  },
  {
   "cell_type": "code",
   "execution_count": 161,
   "metadata": {},
   "outputs": [
    {
     "data": {
      "text/plain": [
       "Country\n",
       "Burundi                       463.037\n",
       "Comoros                       467.273\n",
       "Djibouti                       42.623\n",
       "Eritrea                       35.1131\n",
       "Ethiopia                      114.964\n",
       "                               ...   \n",
       "Bermuda                       1245.46\n",
       "Canada                        4.15045\n",
       "Greenland                    0.138316\n",
       "Saint Pierre and Miquelon     25.1957\n",
       "US                            36.1854\n",
       "Name: 2020, Length: 235, dtype: object"
      ]
     },
     "execution_count": 161,
     "metadata": {},
     "output_type": "execute_result"
    }
   ],
   "source": [
    "# Check data\n",
    "serie_density"
   ]
  },
  {
   "cell_type": "markdown",
   "metadata": {},
   "source": [
    "### Country infos\n",
    "Crossing population and density and calculating size"
   ]
  },
  {
   "cell_type": "code",
   "execution_count": 162,
   "metadata": {},
   "outputs": [],
   "source": [
    "df_1 = pd.DataFrame(serie_wp)\n",
    "df_1.columns = ['population']\n",
    "df_2 = pd.DataFrame(serie_density)\n",
    "df_2.columns =['density']"
   ]
  },
  {
   "cell_type": "code",
   "execution_count": 163,
   "metadata": {},
   "outputs": [],
   "source": [
    "# join two series as df\n",
    "df_country_info = df_1.join(df_2)\n",
    "# Calculate size of countries\n",
    "df_country_info['size'] =  df_country_info['population']/df_country_info['density'] * 1000"
   ]
  },
  {
   "cell_type": "code",
   "execution_count": 164,
   "metadata": {},
   "outputs": [
    {
     "data": {
      "text/html": [
       "<div>\n",
       "<style scoped>\n",
       "    .dataframe tbody tr th:only-of-type {\n",
       "        vertical-align: middle;\n",
       "    }\n",
       "\n",
       "    .dataframe tbody tr th {\n",
       "        vertical-align: top;\n",
       "    }\n",
       "\n",
       "    .dataframe thead th {\n",
       "        text-align: right;\n",
       "    }\n",
       "</style>\n",
       "<table border=\"1\" class=\"dataframe\">\n",
       "  <thead>\n",
       "    <tr style=\"text-align: right;\">\n",
       "      <th></th>\n",
       "      <th>population</th>\n",
       "      <th>density</th>\n",
       "      <th>size</th>\n",
       "    </tr>\n",
       "    <tr>\n",
       "      <th>Country</th>\n",
       "      <th></th>\n",
       "      <th></th>\n",
       "      <th></th>\n",
       "    </tr>\n",
       "  </thead>\n",
       "  <tbody>\n",
       "    <tr>\n",
       "      <th>Burundi</th>\n",
       "      <td>11890.8</td>\n",
       "      <td>463.037</td>\n",
       "      <td>25680</td>\n",
       "    </tr>\n",
       "    <tr>\n",
       "      <th>Comoros</th>\n",
       "      <td>869.595</td>\n",
       "      <td>467.273</td>\n",
       "      <td>1861</td>\n",
       "    </tr>\n",
       "    <tr>\n",
       "      <th>Djibouti</th>\n",
       "      <td>988.002</td>\n",
       "      <td>42.623</td>\n",
       "      <td>23180</td>\n",
       "    </tr>\n",
       "    <tr>\n",
       "      <th>Eritrea</th>\n",
       "      <td>3546.43</td>\n",
       "      <td>35.1131</td>\n",
       "      <td>101000</td>\n",
       "    </tr>\n",
       "    <tr>\n",
       "      <th>Ethiopia</th>\n",
       "      <td>114964</td>\n",
       "      <td>114.964</td>\n",
       "      <td>1e+06</td>\n",
       "    </tr>\n",
       "    <tr>\n",
       "      <th>...</th>\n",
       "      <td>...</td>\n",
       "      <td>...</td>\n",
       "      <td>...</td>\n",
       "    </tr>\n",
       "    <tr>\n",
       "      <th>Bermuda</th>\n",
       "      <td>62.273</td>\n",
       "      <td>1245.46</td>\n",
       "      <td>50</td>\n",
       "    </tr>\n",
       "    <tr>\n",
       "      <th>Canada</th>\n",
       "      <td>37742.2</td>\n",
       "      <td>4.15045</td>\n",
       "      <td>9.09351e+06</td>\n",
       "    </tr>\n",
       "    <tr>\n",
       "      <th>Greenland</th>\n",
       "      <td>56.772</td>\n",
       "      <td>0.138316</td>\n",
       "      <td>410450</td>\n",
       "    </tr>\n",
       "    <tr>\n",
       "      <th>Saint Pierre and Miquelon</th>\n",
       "      <td>5.795</td>\n",
       "      <td>25.1957</td>\n",
       "      <td>230</td>\n",
       "    </tr>\n",
       "    <tr>\n",
       "      <th>US</th>\n",
       "      <td>331003</td>\n",
       "      <td>36.1854</td>\n",
       "      <td>9.14742e+06</td>\n",
       "    </tr>\n",
       "  </tbody>\n",
       "</table>\n",
       "<p>235 rows × 3 columns</p>\n",
       "</div>"
      ],
      "text/plain": [
       "                          population   density         size\n",
       "Country                                                    \n",
       "Burundi                      11890.8   463.037        25680\n",
       "Comoros                      869.595   467.273         1861\n",
       "Djibouti                     988.002    42.623        23180\n",
       "Eritrea                      3546.43   35.1131       101000\n",
       "Ethiopia                      114964   114.964        1e+06\n",
       "...                              ...       ...          ...\n",
       "Bermuda                       62.273   1245.46           50\n",
       "Canada                       37742.2   4.15045  9.09351e+06\n",
       "Greenland                     56.772  0.138316       410450\n",
       "Saint Pierre and Miquelon      5.795   25.1957          230\n",
       "US                            331003   36.1854  9.14742e+06\n",
       "\n",
       "[235 rows x 3 columns]"
      ]
     },
     "execution_count": 164,
     "metadata": {},
     "output_type": "execute_result"
    }
   ],
   "source": [
    "# Cehcking data\n",
    "df_country_info"
   ]
  },
  {
   "cell_type": "markdown",
   "metadata": {},
   "source": [
    "### Saving the UN data"
   ]
  },
  {
   "cell_type": "code",
   "execution_count": 168,
   "metadata": {},
   "outputs": [],
   "source": [
    "df_country_info.to_csv('country_info.csv')"
   ]
  },
  {
   "cell_type": "markdown",
   "metadata": {},
   "source": [
    "## Cross data CSSE and pop / density / size"
   ]
  },
  {
   "cell_type": "code",
   "execution_count": 166,
   "metadata": {},
   "outputs": [],
   "source": [
    "df_dataset = df_corona.join(df_country_info, how='left',on='country')"
   ]
  },
  {
   "cell_type": "code",
   "execution_count": 167,
   "metadata": {},
   "outputs": [
    {
     "data": {
      "text/html": [
       "<div>\n",
       "<style scoped>\n",
       "    .dataframe tbody tr th:only-of-type {\n",
       "        vertical-align: middle;\n",
       "    }\n",
       "\n",
       "    .dataframe tbody tr th {\n",
       "        vertical-align: top;\n",
       "    }\n",
       "\n",
       "    .dataframe thead th {\n",
       "        text-align: right;\n",
       "    }\n",
       "</style>\n",
       "<table border=\"1\" class=\"dataframe\">\n",
       "  <thead>\n",
       "    <tr style=\"text-align: right;\">\n",
       "      <th></th>\n",
       "      <th>country</th>\n",
       "      <th>date</th>\n",
       "      <th>cases</th>\n",
       "      <th>population</th>\n",
       "      <th>density</th>\n",
       "      <th>size</th>\n",
       "    </tr>\n",
       "  </thead>\n",
       "  <tbody>\n",
       "    <tr>\n",
       "      <th>0</th>\n",
       "      <td>Afghanistan</td>\n",
       "      <td>2020-01-22</td>\n",
       "      <td>0</td>\n",
       "      <td>38928.3</td>\n",
       "      <td>59.6274</td>\n",
       "      <td>652860</td>\n",
       "    </tr>\n",
       "    <tr>\n",
       "      <th>1</th>\n",
       "      <td>Afghanistan</td>\n",
       "      <td>2020-01-23</td>\n",
       "      <td>0</td>\n",
       "      <td>38928.3</td>\n",
       "      <td>59.6274</td>\n",
       "      <td>652860</td>\n",
       "    </tr>\n",
       "    <tr>\n",
       "      <th>2</th>\n",
       "      <td>Afghanistan</td>\n",
       "      <td>2020-01-24</td>\n",
       "      <td>0</td>\n",
       "      <td>38928.3</td>\n",
       "      <td>59.6274</td>\n",
       "      <td>652860</td>\n",
       "    </tr>\n",
       "    <tr>\n",
       "      <th>3</th>\n",
       "      <td>Afghanistan</td>\n",
       "      <td>2020-01-25</td>\n",
       "      <td>0</td>\n",
       "      <td>38928.3</td>\n",
       "      <td>59.6274</td>\n",
       "      <td>652860</td>\n",
       "    </tr>\n",
       "    <tr>\n",
       "      <th>4</th>\n",
       "      <td>Afghanistan</td>\n",
       "      <td>2020-01-26</td>\n",
       "      <td>0</td>\n",
       "      <td>38928.3</td>\n",
       "      <td>59.6274</td>\n",
       "      <td>652860</td>\n",
       "    </tr>\n",
       "    <tr>\n",
       "      <th>...</th>\n",
       "      <td>...</td>\n",
       "      <td>...</td>\n",
       "      <td>...</td>\n",
       "      <td>...</td>\n",
       "      <td>...</td>\n",
       "      <td>...</td>\n",
       "    </tr>\n",
       "    <tr>\n",
       "      <th>6495</th>\n",
       "      <td>Vietnam</td>\n",
       "      <td>2020-03-09</td>\n",
       "      <td>30</td>\n",
       "      <td>97338.6</td>\n",
       "      <td>313.925</td>\n",
       "      <td>310070</td>\n",
       "    </tr>\n",
       "    <tr>\n",
       "      <th>6496</th>\n",
       "      <td>Vietnam</td>\n",
       "      <td>2020-03-10</td>\n",
       "      <td>31</td>\n",
       "      <td>97338.6</td>\n",
       "      <td>313.925</td>\n",
       "      <td>310070</td>\n",
       "    </tr>\n",
       "    <tr>\n",
       "      <th>6497</th>\n",
       "      <td>Vietnam</td>\n",
       "      <td>2020-03-11</td>\n",
       "      <td>38</td>\n",
       "      <td>97338.6</td>\n",
       "      <td>313.925</td>\n",
       "      <td>310070</td>\n",
       "    </tr>\n",
       "    <tr>\n",
       "      <th>6498</th>\n",
       "      <td>Vietnam</td>\n",
       "      <td>2020-03-12</td>\n",
       "      <td>39</td>\n",
       "      <td>97338.6</td>\n",
       "      <td>313.925</td>\n",
       "      <td>310070</td>\n",
       "    </tr>\n",
       "    <tr>\n",
       "      <th>6499</th>\n",
       "      <td>Vietnam</td>\n",
       "      <td>2020-03-13</td>\n",
       "      <td>47</td>\n",
       "      <td>97338.6</td>\n",
       "      <td>313.925</td>\n",
       "      <td>310070</td>\n",
       "    </tr>\n",
       "  </tbody>\n",
       "</table>\n",
       "<p>6500 rows × 6 columns</p>\n",
       "</div>"
      ],
      "text/plain": [
       "          country       date  cases population  density    size\n",
       "0     Afghanistan 2020-01-22      0    38928.3  59.6274  652860\n",
       "1     Afghanistan 2020-01-23      0    38928.3  59.6274  652860\n",
       "2     Afghanistan 2020-01-24      0    38928.3  59.6274  652860\n",
       "3     Afghanistan 2020-01-25      0    38928.3  59.6274  652860\n",
       "4     Afghanistan 2020-01-26      0    38928.3  59.6274  652860\n",
       "...           ...        ...    ...        ...      ...     ...\n",
       "6495      Vietnam 2020-03-09     30    97338.6  313.925  310070\n",
       "6496      Vietnam 2020-03-10     31    97338.6  313.925  310070\n",
       "6497      Vietnam 2020-03-11     38    97338.6  313.925  310070\n",
       "6498      Vietnam 2020-03-12     39    97338.6  313.925  310070\n",
       "6499      Vietnam 2020-03-13     47    97338.6  313.925  310070\n",
       "\n",
       "[6500 rows x 6 columns]"
      ]
     },
     "execution_count": 167,
     "metadata": {},
     "output_type": "execute_result"
    }
   ],
   "source": [
    "df_dataset"
   ]
  },
  {
   "cell_type": "code",
   "execution_count": 171,
   "metadata": {},
   "outputs": [],
   "source": [
    "## Calculate the age of crisis"
   ]
  },
  {
   "cell_type": "code",
   "execution_count": 172,
   "metadata": {},
   "outputs": [],
   "source": [
    "ratio_crisis = 0.5"
   ]
  },
  {
   "cell_type": "code",
   "execution_count": 175,
   "metadata": {},
   "outputs": [],
   "source": [
    "df_dataset['ratio'] = df_dataset['cases'] / df_dataset['population'] * 100"
   ]
  },
  {
   "cell_type": "code",
   "execution_count": 176,
   "metadata": {},
   "outputs": [
    {
     "data": {
      "text/html": [
       "<div>\n",
       "<style scoped>\n",
       "    .dataframe tbody tr th:only-of-type {\n",
       "        vertical-align: middle;\n",
       "    }\n",
       "\n",
       "    .dataframe tbody tr th {\n",
       "        vertical-align: top;\n",
       "    }\n",
       "\n",
       "    .dataframe thead th {\n",
       "        text-align: right;\n",
       "    }\n",
       "</style>\n",
       "<table border=\"1\" class=\"dataframe\">\n",
       "  <thead>\n",
       "    <tr style=\"text-align: right;\">\n",
       "      <th></th>\n",
       "      <th>country</th>\n",
       "      <th>date</th>\n",
       "      <th>cases</th>\n",
       "      <th>population</th>\n",
       "      <th>density</th>\n",
       "      <th>size</th>\n",
       "      <th>ratio</th>\n",
       "    </tr>\n",
       "  </thead>\n",
       "  <tbody>\n",
       "    <tr>\n",
       "      <th>0</th>\n",
       "      <td>Afghanistan</td>\n",
       "      <td>2020-01-22</td>\n",
       "      <td>0</td>\n",
       "      <td>38928.3</td>\n",
       "      <td>59.6274</td>\n",
       "      <td>652860</td>\n",
       "      <td>0</td>\n",
       "    </tr>\n",
       "    <tr>\n",
       "      <th>1</th>\n",
       "      <td>Afghanistan</td>\n",
       "      <td>2020-01-23</td>\n",
       "      <td>0</td>\n",
       "      <td>38928.3</td>\n",
       "      <td>59.6274</td>\n",
       "      <td>652860</td>\n",
       "      <td>0</td>\n",
       "    </tr>\n",
       "    <tr>\n",
       "      <th>2</th>\n",
       "      <td>Afghanistan</td>\n",
       "      <td>2020-01-24</td>\n",
       "      <td>0</td>\n",
       "      <td>38928.3</td>\n",
       "      <td>59.6274</td>\n",
       "      <td>652860</td>\n",
       "      <td>0</td>\n",
       "    </tr>\n",
       "    <tr>\n",
       "      <th>3</th>\n",
       "      <td>Afghanistan</td>\n",
       "      <td>2020-01-25</td>\n",
       "      <td>0</td>\n",
       "      <td>38928.3</td>\n",
       "      <td>59.6274</td>\n",
       "      <td>652860</td>\n",
       "      <td>0</td>\n",
       "    </tr>\n",
       "    <tr>\n",
       "      <th>4</th>\n",
       "      <td>Afghanistan</td>\n",
       "      <td>2020-01-26</td>\n",
       "      <td>0</td>\n",
       "      <td>38928.3</td>\n",
       "      <td>59.6274</td>\n",
       "      <td>652860</td>\n",
       "      <td>0</td>\n",
       "    </tr>\n",
       "    <tr>\n",
       "      <th>...</th>\n",
       "      <td>...</td>\n",
       "      <td>...</td>\n",
       "      <td>...</td>\n",
       "      <td>...</td>\n",
       "      <td>...</td>\n",
       "      <td>...</td>\n",
       "      <td>...</td>\n",
       "    </tr>\n",
       "    <tr>\n",
       "      <th>6495</th>\n",
       "      <td>Vietnam</td>\n",
       "      <td>2020-03-09</td>\n",
       "      <td>30</td>\n",
       "      <td>97338.6</td>\n",
       "      <td>313.925</td>\n",
       "      <td>310070</td>\n",
       "      <td>0.0308203</td>\n",
       "    </tr>\n",
       "    <tr>\n",
       "      <th>6496</th>\n",
       "      <td>Vietnam</td>\n",
       "      <td>2020-03-10</td>\n",
       "      <td>31</td>\n",
       "      <td>97338.6</td>\n",
       "      <td>313.925</td>\n",
       "      <td>310070</td>\n",
       "      <td>0.0318476</td>\n",
       "    </tr>\n",
       "    <tr>\n",
       "      <th>6497</th>\n",
       "      <td>Vietnam</td>\n",
       "      <td>2020-03-11</td>\n",
       "      <td>38</td>\n",
       "      <td>97338.6</td>\n",
       "      <td>313.925</td>\n",
       "      <td>310070</td>\n",
       "      <td>0.039039</td>\n",
       "    </tr>\n",
       "    <tr>\n",
       "      <th>6498</th>\n",
       "      <td>Vietnam</td>\n",
       "      <td>2020-03-12</td>\n",
       "      <td>39</td>\n",
       "      <td>97338.6</td>\n",
       "      <td>313.925</td>\n",
       "      <td>310070</td>\n",
       "      <td>0.0400663</td>\n",
       "    </tr>\n",
       "    <tr>\n",
       "      <th>6499</th>\n",
       "      <td>Vietnam</td>\n",
       "      <td>2020-03-13</td>\n",
       "      <td>47</td>\n",
       "      <td>97338.6</td>\n",
       "      <td>313.925</td>\n",
       "      <td>310070</td>\n",
       "      <td>0.0482851</td>\n",
       "    </tr>\n",
       "  </tbody>\n",
       "</table>\n",
       "<p>6500 rows × 7 columns</p>\n",
       "</div>"
      ],
      "text/plain": [
       "          country       date  cases population  density    size      ratio\n",
       "0     Afghanistan 2020-01-22      0    38928.3  59.6274  652860          0\n",
       "1     Afghanistan 2020-01-23      0    38928.3  59.6274  652860          0\n",
       "2     Afghanistan 2020-01-24      0    38928.3  59.6274  652860          0\n",
       "3     Afghanistan 2020-01-25      0    38928.3  59.6274  652860          0\n",
       "4     Afghanistan 2020-01-26      0    38928.3  59.6274  652860          0\n",
       "...           ...        ...    ...        ...      ...     ...        ...\n",
       "6495      Vietnam 2020-03-09     30    97338.6  313.925  310070  0.0308203\n",
       "6496      Vietnam 2020-03-10     31    97338.6  313.925  310070  0.0318476\n",
       "6497      Vietnam 2020-03-11     38    97338.6  313.925  310070   0.039039\n",
       "6498      Vietnam 2020-03-12     39    97338.6  313.925  310070  0.0400663\n",
       "6499      Vietnam 2020-03-13     47    97338.6  313.925  310070  0.0482851\n",
       "\n",
       "[6500 rows x 7 columns]"
      ]
     },
     "execution_count": 176,
     "metadata": {},
     "output_type": "execute_result"
    }
   ],
   "source": [
    "# check data\n",
    "df_dataset"
   ]
  },
  {
   "cell_type": "code",
   "execution_count": 177,
   "metadata": {},
   "outputs": [],
   "source": [
    "### calculate ref data for crisis"
   ]
  },
  {
   "cell_type": "code",
   "execution_count": 178,
   "metadata": {},
   "outputs": [],
   "source": [
    "serie_epidemic_start_date = df_dataset[df_dataset['ratio'] > ratio_crisis].groupby('country').min()['date']"
   ]
  },
  {
   "cell_type": "code",
   "execution_count": 179,
   "metadata": {},
   "outputs": [],
   "source": [
    "df_epidemic_start = pd.DataFrame(serie_epidemic_start_date)\n",
    "df_epidemic_start.columns = ['start_date']"
   ]
  },
  {
   "cell_type": "code",
   "execution_count": 180,
   "metadata": {},
   "outputs": [],
   "source": [
    "### add start date to dataset"
   ]
  },
  {
   "cell_type": "code",
   "execution_count": 181,
   "metadata": {},
   "outputs": [],
   "source": [
    "df_dataset = df_dataset.join(df_epidemic_start, how='right', on='country')"
   ]
  },
  {
   "cell_type": "code",
   "execution_count": 185,
   "metadata": {},
   "outputs": [],
   "source": [
    "df_dataset['age'] = df_dataset['date'] - df_dataset['start_date']"
   ]
  },
  {
   "cell_type": "code",
   "execution_count": 186,
   "metadata": {},
   "outputs": [
    {
     "data": {
      "text/html": [
       "<div>\n",
       "<style scoped>\n",
       "    .dataframe tbody tr th:only-of-type {\n",
       "        vertical-align: middle;\n",
       "    }\n",
       "\n",
       "    .dataframe tbody tr th {\n",
       "        vertical-align: top;\n",
       "    }\n",
       "\n",
       "    .dataframe thead th {\n",
       "        text-align: right;\n",
       "    }\n",
       "</style>\n",
       "<table border=\"1\" class=\"dataframe\">\n",
       "  <thead>\n",
       "    <tr style=\"text-align: right;\">\n",
       "      <th></th>\n",
       "      <th>country</th>\n",
       "      <th>date</th>\n",
       "      <th>cases</th>\n",
       "      <th>population</th>\n",
       "      <th>density</th>\n",
       "      <th>size</th>\n",
       "      <th>ratio</th>\n",
       "      <th>start_date</th>\n",
       "      <th>age</th>\n",
       "    </tr>\n",
       "  </thead>\n",
       "  <tbody>\n",
       "    <tr>\n",
       "      <th>52</th>\n",
       "      <td>Albania</td>\n",
       "      <td>2020-01-22</td>\n",
       "      <td>0</td>\n",
       "      <td>2877.8</td>\n",
       "      <td>105.029</td>\n",
       "      <td>27400</td>\n",
       "      <td>0</td>\n",
       "      <td>2020-03-12</td>\n",
       "      <td>-50 days</td>\n",
       "    </tr>\n",
       "    <tr>\n",
       "      <th>53</th>\n",
       "      <td>Albania</td>\n",
       "      <td>2020-01-23</td>\n",
       "      <td>0</td>\n",
       "      <td>2877.8</td>\n",
       "      <td>105.029</td>\n",
       "      <td>27400</td>\n",
       "      <td>0</td>\n",
       "      <td>2020-03-12</td>\n",
       "      <td>-49 days</td>\n",
       "    </tr>\n",
       "    <tr>\n",
       "      <th>54</th>\n",
       "      <td>Albania</td>\n",
       "      <td>2020-01-24</td>\n",
       "      <td>0</td>\n",
       "      <td>2877.8</td>\n",
       "      <td>105.029</td>\n",
       "      <td>27400</td>\n",
       "      <td>0</td>\n",
       "      <td>2020-03-12</td>\n",
       "      <td>-48 days</td>\n",
       "    </tr>\n",
       "    <tr>\n",
       "      <th>55</th>\n",
       "      <td>Albania</td>\n",
       "      <td>2020-01-25</td>\n",
       "      <td>0</td>\n",
       "      <td>2877.8</td>\n",
       "      <td>105.029</td>\n",
       "      <td>27400</td>\n",
       "      <td>0</td>\n",
       "      <td>2020-03-12</td>\n",
       "      <td>-47 days</td>\n",
       "    </tr>\n",
       "    <tr>\n",
       "      <th>56</th>\n",
       "      <td>Albania</td>\n",
       "      <td>2020-01-26</td>\n",
       "      <td>0</td>\n",
       "      <td>2877.8</td>\n",
       "      <td>105.029</td>\n",
       "      <td>27400</td>\n",
       "      <td>0</td>\n",
       "      <td>2020-03-12</td>\n",
       "      <td>-46 days</td>\n",
       "    </tr>\n",
       "    <tr>\n",
       "      <th>...</th>\n",
       "      <td>...</td>\n",
       "      <td>...</td>\n",
       "      <td>...</td>\n",
       "      <td>...</td>\n",
       "      <td>...</td>\n",
       "      <td>...</td>\n",
       "      <td>...</td>\n",
       "      <td>...</td>\n",
       "      <td>...</td>\n",
       "    </tr>\n",
       "    <tr>\n",
       "      <th>6443</th>\n",
       "      <td>United Kingdom</td>\n",
       "      <td>2020-03-09</td>\n",
       "      <td>322</td>\n",
       "      <td>67886</td>\n",
       "      <td>280.602</td>\n",
       "      <td>241930</td>\n",
       "      <td>0.474325</td>\n",
       "      <td>2020-03-10</td>\n",
       "      <td>-1 days</td>\n",
       "    </tr>\n",
       "    <tr>\n",
       "      <th>6444</th>\n",
       "      <td>United Kingdom</td>\n",
       "      <td>2020-03-10</td>\n",
       "      <td>384</td>\n",
       "      <td>67886</td>\n",
       "      <td>280.602</td>\n",
       "      <td>241930</td>\n",
       "      <td>0.565654</td>\n",
       "      <td>2020-03-10</td>\n",
       "      <td>0 days</td>\n",
       "    </tr>\n",
       "    <tr>\n",
       "      <th>6445</th>\n",
       "      <td>United Kingdom</td>\n",
       "      <td>2020-03-11</td>\n",
       "      <td>459</td>\n",
       "      <td>67886</td>\n",
       "      <td>280.602</td>\n",
       "      <td>241930</td>\n",
       "      <td>0.676133</td>\n",
       "      <td>2020-03-10</td>\n",
       "      <td>1 days</td>\n",
       "    </tr>\n",
       "    <tr>\n",
       "      <th>6446</th>\n",
       "      <td>United Kingdom</td>\n",
       "      <td>2020-03-12</td>\n",
       "      <td>459</td>\n",
       "      <td>67886</td>\n",
       "      <td>280.602</td>\n",
       "      <td>241930</td>\n",
       "      <td>0.676133</td>\n",
       "      <td>2020-03-10</td>\n",
       "      <td>2 days</td>\n",
       "    </tr>\n",
       "    <tr>\n",
       "      <th>6447</th>\n",
       "      <td>United Kingdom</td>\n",
       "      <td>2020-03-13</td>\n",
       "      <td>801</td>\n",
       "      <td>67886</td>\n",
       "      <td>280.602</td>\n",
       "      <td>241930</td>\n",
       "      <td>1.17992</td>\n",
       "      <td>2020-03-10</td>\n",
       "      <td>3 days</td>\n",
       "    </tr>\n",
       "  </tbody>\n",
       "</table>\n",
       "<p>2860 rows × 9 columns</p>\n",
       "</div>"
      ],
      "text/plain": [
       "             country       date  cases population  density    size     ratio  \\\n",
       "52           Albania 2020-01-22      0     2877.8  105.029   27400         0   \n",
       "53           Albania 2020-01-23      0     2877.8  105.029   27400         0   \n",
       "54           Albania 2020-01-24      0     2877.8  105.029   27400         0   \n",
       "55           Albania 2020-01-25      0     2877.8  105.029   27400         0   \n",
       "56           Albania 2020-01-26      0     2877.8  105.029   27400         0   \n",
       "...              ...        ...    ...        ...      ...     ...       ...   \n",
       "6443  United Kingdom 2020-03-09    322      67886  280.602  241930  0.474325   \n",
       "6444  United Kingdom 2020-03-10    384      67886  280.602  241930  0.565654   \n",
       "6445  United Kingdom 2020-03-11    459      67886  280.602  241930  0.676133   \n",
       "6446  United Kingdom 2020-03-12    459      67886  280.602  241930  0.676133   \n",
       "6447  United Kingdom 2020-03-13    801      67886  280.602  241930   1.17992   \n",
       "\n",
       "     start_date      age  \n",
       "52   2020-03-12 -50 days  \n",
       "53   2020-03-12 -49 days  \n",
       "54   2020-03-12 -48 days  \n",
       "55   2020-03-12 -47 days  \n",
       "56   2020-03-12 -46 days  \n",
       "...         ...      ...  \n",
       "6443 2020-03-10  -1 days  \n",
       "6444 2020-03-10   0 days  \n",
       "6445 2020-03-10   1 days  \n",
       "6446 2020-03-10   2 days  \n",
       "6447 2020-03-10   3 days  \n",
       "\n",
       "[2860 rows x 9 columns]"
      ]
     },
     "execution_count": 186,
     "metadata": {},
     "output_type": "execute_result"
    }
   ],
   "source": [
    "#check data\n",
    "df_dataset"
   ]
  },
  {
   "cell_type": "code",
   "execution_count": null,
   "metadata": {},
   "outputs": [],
   "source": []
  },
  {
   "cell_type": "markdown",
   "metadata": {},
   "source": [
    "## Saving final data"
   ]
  },
  {
   "cell_type": "code",
   "execution_count": 187,
   "metadata": {},
   "outputs": [],
   "source": [
    "df_dataset.to_csv('dataset.csv')"
   ]
  },
  {
   "cell_type": "code",
   "execution_count": null,
   "metadata": {},
   "outputs": [],
   "source": []
  }
 ],
 "metadata": {
  "kernelspec": {
   "display_name": "Python 3",
   "language": "python",
   "name": "python3"
  },
  "language_info": {
   "codemirror_mode": {
    "name": "ipython",
    "version": 3
   },
   "file_extension": ".py",
   "mimetype": "text/x-python",
   "name": "python",
   "nbconvert_exporter": "python",
   "pygments_lexer": "ipython3",
   "version": "3.6.5"
  }
 },
 "nbformat": 4,
 "nbformat_minor": 4
}
