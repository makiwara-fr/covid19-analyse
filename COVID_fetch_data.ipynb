{
 "cells": [
  {
   "cell_type": "code",
   "execution_count": 1,
   "metadata": {},
   "outputs": [],
   "source": [
    "import pandas as pd"
   ]
  },
  {
   "cell_type": "markdown",
   "metadata": {},
   "source": [
    "\n",
    "## Get data from Johns Hopkins"
   ]
  },
  {
   "cell_type": "code",
   "execution_count": 2,
   "metadata": {},
   "outputs": [
    {
     "name": "stdout",
     "output_type": "stream",
     "text": [
      "remote: Enumerating objects: 23, done.\u001b[K\n",
      "remote: Counting objects: 100% (23/23), done.\u001b[K\n",
      "remote: Total 47 (delta 23), reused 23 (delta 23), pack-reused 24\u001b[K\n",
      "Unpacking objects: 100% (47/47), done.\n",
      "From https://github.com/CSSEGISandData/COVID-19\n",
      " * branch            master     -> FETCH_HEAD\n",
      "   66ca3a6..76b91e9  master     -> origin/master\n",
      "Updating 66ca3a6..76b91e9\n",
      "Fast-forward\n",
      " .../csse_covid_19_daily_reports/03-22-2020.csv     | 310 \u001b[32m+++++++\u001b[m\n",
      " .../time_series_19-covid-Confirmed.csv             | 971 \u001b[32m+++++++++++\u001b[m\u001b[31m----------\u001b[m\n",
      " .../time_series_19-covid-Deaths.csv                | 971 \u001b[32m+++++++++++\u001b[m\u001b[31m----------\u001b[m\n",
      " .../time_series_19-covid-Recovered.csv             | 971 \u001b[32m+++++++++++\u001b[m\u001b[31m----------\u001b[m\n",
      " .../time_series_covid19_confirmed_global.csv       | 239 \u001b[32m+++++\u001b[m\n",
      " .../time_series_covid19_deaths_global.csv          | 239 \u001b[32m+++++\u001b[m\n",
      " 6 files changed, 2252 insertions(+), 1449 deletions(-)\n",
      " create mode 100644 csse_covid_19_data/csse_covid_19_daily_reports/03-22-2020.csv\n",
      " create mode 100644 csse_covid_19_data/csse_covid_19_time_series/time_series_covid19_confirmed_global.csv\n",
      " create mode 100644 csse_covid_19_data/csse_covid_19_time_series/time_series_covid19_deaths_global.csv\n"
     ]
    }
   ],
   "source": [
    "#!git clone https://github.com/CSSEGISandData/COVID-19.git \n",
    "!cd COVID-19 && git pull origin master"
   ]
  },
  {
   "cell_type": "code",
   "execution_count": 3,
   "metadata": {},
   "outputs": [],
   "source": [
    "df_corona_temp = pd.read_csv(\"./COVID-19/csse_covid_19_data/csse_covid_19_time_series/time_series_19-covid-Confirmed.csv\")\n",
    "df_corona_death_temp = pd.read_csv(\"./COVID-19/csse_covid_19_data/csse_covid_19_time_series/time_series_19-covid-Deaths.csv\")"
   ]
  },
  {
   "cell_type": "markdown",
   "metadata": {},
   "source": [
    "### retreat data structure"
   ]
  },
  {
   "cell_type": "code",
   "execution_count": 4,
   "metadata": {},
   "outputs": [],
   "source": [
    "def retreat_struct(df):\n",
    "    output = df.groupby(by=\"Country/Region\").sum()\n",
    "    output.drop(['Lat','Long'], axis=1, inplace=True)\n",
    "    output.fillna(0, inplace=True)\n",
    "    output.index.name = None\n",
    "    output.columns = pd.to_datetime(output.columns)\n",
    "    output.rename(index={'Mainland China':'China', 'Korea, South': 'South Korea'},inplace=True)\n",
    "    return output\n"
   ]
  },
  {
   "cell_type": "code",
   "execution_count": 5,
   "metadata": {},
   "outputs": [],
   "source": [
    "df_corona_temp = retreat_struct(df_corona_temp)\n",
    "df_corona_death_temp = retreat_struct(df_corona_death_temp)"
   ]
  },
  {
   "cell_type": "code",
   "execution_count": 6,
   "metadata": {},
   "outputs": [
    {
     "data": {
      "text/plain": [
       "((171, 61), (171, 61))"
      ]
     },
     "execution_count": 6,
     "metadata": {},
     "output_type": "execute_result"
    }
   ],
   "source": [
    "df_corona_temp.shape, df_corona_death_temp.shape"
   ]
  },
  {
   "cell_type": "markdown",
   "metadata": {},
   "source": [
    "### Transform colums as lines"
   ]
  },
  {
   "cell_type": "code",
   "execution_count": 7,
   "metadata": {},
   "outputs": [],
   "source": [
    "serie_corona = df_corona_temp.stack()\n",
    "serie_death = df_corona_death_temp.stack()"
   ]
  },
  {
   "cell_type": "code",
   "execution_count": 8,
   "metadata": {},
   "outputs": [],
   "source": [
    "# back to df \n",
    "df_corona = pd.DataFrame(serie_corona)\n",
    "\n",
    "df_corona.reset_index(inplace=True)\n",
    "df_corona.columns = ['country', 'date','case']"
   ]
  },
  {
   "cell_type": "code",
   "execution_count": 9,
   "metadata": {},
   "outputs": [],
   "source": [
    "df_corona = df_corona.join(pd.DataFrame(serie_death),how='left',on=['country','date'])\n",
    "df_corona.columns = ['country', 'date','case','death']"
   ]
  },
  {
   "cell_type": "code",
   "execution_count": 10,
   "metadata": {},
   "outputs": [
    {
     "data": {
      "text/html": [
       "<div>\n",
       "<style scoped>\n",
       "    .dataframe tbody tr th:only-of-type {\n",
       "        vertical-align: middle;\n",
       "    }\n",
       "\n",
       "    .dataframe tbody tr th {\n",
       "        vertical-align: top;\n",
       "    }\n",
       "\n",
       "    .dataframe thead th {\n",
       "        text-align: right;\n",
       "    }\n",
       "</style>\n",
       "<table border=\"1\" class=\"dataframe\">\n",
       "  <thead>\n",
       "    <tr style=\"text-align: right;\">\n",
       "      <th></th>\n",
       "      <th>country</th>\n",
       "      <th>date</th>\n",
       "      <th>case</th>\n",
       "      <th>death</th>\n",
       "    </tr>\n",
       "  </thead>\n",
       "  <tbody>\n",
       "    <tr>\n",
       "      <th>0</th>\n",
       "      <td>Afghanistan</td>\n",
       "      <td>2020-01-22</td>\n",
       "      <td>0</td>\n",
       "      <td>0</td>\n",
       "    </tr>\n",
       "    <tr>\n",
       "      <th>1</th>\n",
       "      <td>Afghanistan</td>\n",
       "      <td>2020-01-23</td>\n",
       "      <td>0</td>\n",
       "      <td>0</td>\n",
       "    </tr>\n",
       "    <tr>\n",
       "      <th>2</th>\n",
       "      <td>Afghanistan</td>\n",
       "      <td>2020-01-24</td>\n",
       "      <td>0</td>\n",
       "      <td>0</td>\n",
       "    </tr>\n",
       "    <tr>\n",
       "      <th>3</th>\n",
       "      <td>Afghanistan</td>\n",
       "      <td>2020-01-25</td>\n",
       "      <td>0</td>\n",
       "      <td>0</td>\n",
       "    </tr>\n",
       "    <tr>\n",
       "      <th>4</th>\n",
       "      <td>Afghanistan</td>\n",
       "      <td>2020-01-26</td>\n",
       "      <td>0</td>\n",
       "      <td>0</td>\n",
       "    </tr>\n",
       "  </tbody>\n",
       "</table>\n",
       "</div>"
      ],
      "text/plain": [
       "       country       date  case  death\n",
       "0  Afghanistan 2020-01-22     0      0\n",
       "1  Afghanistan 2020-01-23     0      0\n",
       "2  Afghanistan 2020-01-24     0      0\n",
       "3  Afghanistan 2020-01-25     0      0\n",
       "4  Afghanistan 2020-01-26     0      0"
      ]
     },
     "execution_count": 10,
     "metadata": {},
     "output_type": "execute_result"
    }
   ],
   "source": [
    "# Checking data \n",
    "df_corona.head()"
   ]
  },
  {
   "cell_type": "markdown",
   "metadata": {},
   "source": [
    "## UN Data on population and density"
   ]
  },
  {
   "cell_type": "markdown",
   "metadata": {},
   "source": [
    "### Alignment of data"
   ]
  },
  {
   "cell_type": "code",
   "execution_count": 11,
   "metadata": {},
   "outputs": [],
   "source": [
    "def align_country_names(df):\n",
    "    ''' Align country names with CSSE reference'''\n",
    "    output = df.rename(columns={'Region, subregion, country or area *' : 'Country'})\n",
    "    output.set_index(\"Country\", inplace=True)\n",
    "    output.rename(index={'Republic of Korea' : 'South Korea', 'Iran (Islamic Republic of)': 'Iran', 'United States of America' : 'US', 'China, Taiwan Province of China' :'Taiwan','Russian Federation':'Russia','Viet Nam':'Vietnam'}, inplace=True)\n",
    "    # focus only at country level data\n",
    "    output = output[output['Type'] == 'Country/Area']\n",
    "    # return 2020 data olny\n",
    "    return output['2020']\n"
   ]
  },
  {
   "cell_type": "markdown",
   "metadata": {},
   "source": [
    "### Population"
   ]
  },
  {
   "cell_type": "code",
   "execution_count": 12,
   "metadata": {},
   "outputs": [],
   "source": [
    "df_wp_temp = pd.read_excel(\"./UN data/population_world.xlsx\", sheet_name = 'ESTIMATES', skiprows= range(0,16))"
   ]
  },
  {
   "cell_type": "code",
   "execution_count": 13,
   "metadata": {},
   "outputs": [
    {
     "data": {
      "text/plain": [
       "Country\n",
       "Burundi                      11890.8\n",
       "Comoros                      869.595\n",
       "Djibouti                     988.002\n",
       "Eritrea                      3546.43\n",
       "Ethiopia                      114964\n",
       "                              ...   \n",
       "Bermuda                       62.273\n",
       "Canada                       37742.2\n",
       "Greenland                     56.772\n",
       "Saint Pierre and Miquelon      5.795\n",
       "US                            331003\n",
       "Name: 2020, Length: 235, dtype: object"
      ]
     },
     "execution_count": 13,
     "metadata": {},
     "output_type": "execute_result"
    }
   ],
   "source": [
    "serie_wp = align_country_names(df_wp_temp)\n",
    "#check data\n",
    "serie_wp"
   ]
  },
  {
   "cell_type": "markdown",
   "metadata": {},
   "source": [
    "### Density data"
   ]
  },
  {
   "cell_type": "code",
   "execution_count": 14,
   "metadata": {},
   "outputs": [],
   "source": [
    "serie_density = align_country_names(pd.read_excel(\"./UN data/WPP2019_POP_F06_POPULATION_DENSITY.xlsx\", sheet_name = 'ESTIMATES', skiprows= range(0,16)))"
   ]
  },
  {
   "cell_type": "code",
   "execution_count": 15,
   "metadata": {},
   "outputs": [
    {
     "data": {
      "text/plain": [
       "Country\n",
       "Burundi                       463.037\n",
       "Comoros                       467.273\n",
       "Djibouti                       42.623\n",
       "Eritrea                       35.1131\n",
       "Ethiopia                      114.964\n",
       "                               ...   \n",
       "Bermuda                       1245.46\n",
       "Canada                        4.15045\n",
       "Greenland                    0.138316\n",
       "Saint Pierre and Miquelon     25.1957\n",
       "US                            36.1854\n",
       "Name: 2020, Length: 235, dtype: object"
      ]
     },
     "execution_count": 15,
     "metadata": {},
     "output_type": "execute_result"
    }
   ],
   "source": [
    "# Check data\n",
    "serie_density"
   ]
  },
  {
   "cell_type": "markdown",
   "metadata": {},
   "source": [
    "### Country infos\n",
    "Crossing population and density and calculating size"
   ]
  },
  {
   "cell_type": "code",
   "execution_count": 16,
   "metadata": {},
   "outputs": [],
   "source": [
    "df_1 = pd.DataFrame(serie_wp)\n",
    "df_1.columns = ['population']\n",
    "df_2 = pd.DataFrame(serie_density)\n",
    "df_2.columns =['density']"
   ]
  },
  {
   "cell_type": "code",
   "execution_count": 17,
   "metadata": {},
   "outputs": [],
   "source": [
    "# join two series as df\n",
    "df_country_info = df_1.join(df_2)\n",
    "# Calculate size of countries\n",
    "df_country_info['size'] =  df_country_info['population']/df_country_info['density'] * 1000"
   ]
  },
  {
   "cell_type": "code",
   "execution_count": 18,
   "metadata": {},
   "outputs": [
    {
     "data": {
      "text/html": [
       "<div>\n",
       "<style scoped>\n",
       "    .dataframe tbody tr th:only-of-type {\n",
       "        vertical-align: middle;\n",
       "    }\n",
       "\n",
       "    .dataframe tbody tr th {\n",
       "        vertical-align: top;\n",
       "    }\n",
       "\n",
       "    .dataframe thead th {\n",
       "        text-align: right;\n",
       "    }\n",
       "</style>\n",
       "<table border=\"1\" class=\"dataframe\">\n",
       "  <thead>\n",
       "    <tr style=\"text-align: right;\">\n",
       "      <th></th>\n",
       "      <th>population</th>\n",
       "      <th>density</th>\n",
       "      <th>size</th>\n",
       "    </tr>\n",
       "    <tr>\n",
       "      <th>Country</th>\n",
       "      <th></th>\n",
       "      <th></th>\n",
       "      <th></th>\n",
       "    </tr>\n",
       "  </thead>\n",
       "  <tbody>\n",
       "    <tr>\n",
       "      <th>Burundi</th>\n",
       "      <td>11890.8</td>\n",
       "      <td>463.037</td>\n",
       "      <td>25680</td>\n",
       "    </tr>\n",
       "    <tr>\n",
       "      <th>Comoros</th>\n",
       "      <td>869.595</td>\n",
       "      <td>467.273</td>\n",
       "      <td>1861</td>\n",
       "    </tr>\n",
       "    <tr>\n",
       "      <th>Djibouti</th>\n",
       "      <td>988.002</td>\n",
       "      <td>42.623</td>\n",
       "      <td>23180</td>\n",
       "    </tr>\n",
       "    <tr>\n",
       "      <th>Eritrea</th>\n",
       "      <td>3546.43</td>\n",
       "      <td>35.1131</td>\n",
       "      <td>101000</td>\n",
       "    </tr>\n",
       "    <tr>\n",
       "      <th>Ethiopia</th>\n",
       "      <td>114964</td>\n",
       "      <td>114.964</td>\n",
       "      <td>1e+06</td>\n",
       "    </tr>\n",
       "    <tr>\n",
       "      <th>...</th>\n",
       "      <td>...</td>\n",
       "      <td>...</td>\n",
       "      <td>...</td>\n",
       "    </tr>\n",
       "    <tr>\n",
       "      <th>Bermuda</th>\n",
       "      <td>62.273</td>\n",
       "      <td>1245.46</td>\n",
       "      <td>50</td>\n",
       "    </tr>\n",
       "    <tr>\n",
       "      <th>Canada</th>\n",
       "      <td>37742.2</td>\n",
       "      <td>4.15045</td>\n",
       "      <td>9.09351e+06</td>\n",
       "    </tr>\n",
       "    <tr>\n",
       "      <th>Greenland</th>\n",
       "      <td>56.772</td>\n",
       "      <td>0.138316</td>\n",
       "      <td>410450</td>\n",
       "    </tr>\n",
       "    <tr>\n",
       "      <th>Saint Pierre and Miquelon</th>\n",
       "      <td>5.795</td>\n",
       "      <td>25.1957</td>\n",
       "      <td>230</td>\n",
       "    </tr>\n",
       "    <tr>\n",
       "      <th>US</th>\n",
       "      <td>331003</td>\n",
       "      <td>36.1854</td>\n",
       "      <td>9.14742e+06</td>\n",
       "    </tr>\n",
       "  </tbody>\n",
       "</table>\n",
       "<p>235 rows × 3 columns</p>\n",
       "</div>"
      ],
      "text/plain": [
       "                          population   density         size\n",
       "Country                                                    \n",
       "Burundi                      11890.8   463.037        25680\n",
       "Comoros                      869.595   467.273         1861\n",
       "Djibouti                     988.002    42.623        23180\n",
       "Eritrea                      3546.43   35.1131       101000\n",
       "Ethiopia                      114964   114.964        1e+06\n",
       "...                              ...       ...          ...\n",
       "Bermuda                       62.273   1245.46           50\n",
       "Canada                       37742.2   4.15045  9.09351e+06\n",
       "Greenland                     56.772  0.138316       410450\n",
       "Saint Pierre and Miquelon      5.795   25.1957          230\n",
       "US                            331003   36.1854  9.14742e+06\n",
       "\n",
       "[235 rows x 3 columns]"
      ]
     },
     "execution_count": 18,
     "metadata": {},
     "output_type": "execute_result"
    }
   ],
   "source": [
    "# Cehcking data\n",
    "df_country_info"
   ]
  },
  {
   "cell_type": "markdown",
   "metadata": {},
   "source": [
    "### Saving the UN data"
   ]
  },
  {
   "cell_type": "code",
   "execution_count": 19,
   "metadata": {},
   "outputs": [],
   "source": [
    "df_country_info.to_csv('country_info.csv')"
   ]
  },
  {
   "cell_type": "markdown",
   "metadata": {},
   "source": [
    "## Cross data CSSE and pop / density / size"
   ]
  },
  {
   "cell_type": "code",
   "execution_count": 20,
   "metadata": {},
   "outputs": [],
   "source": [
    "df_dataset = df_corona.join(df_country_info, how='left',on='country')"
   ]
  },
  {
   "cell_type": "code",
   "execution_count": 21,
   "metadata": {},
   "outputs": [
    {
     "data": {
      "text/html": [
       "<div>\n",
       "<style scoped>\n",
       "    .dataframe tbody tr th:only-of-type {\n",
       "        vertical-align: middle;\n",
       "    }\n",
       "\n",
       "    .dataframe tbody tr th {\n",
       "        vertical-align: top;\n",
       "    }\n",
       "\n",
       "    .dataframe thead th {\n",
       "        text-align: right;\n",
       "    }\n",
       "</style>\n",
       "<table border=\"1\" class=\"dataframe\">\n",
       "  <thead>\n",
       "    <tr style=\"text-align: right;\">\n",
       "      <th></th>\n",
       "      <th>country</th>\n",
       "      <th>date</th>\n",
       "      <th>case</th>\n",
       "      <th>death</th>\n",
       "      <th>population</th>\n",
       "      <th>density</th>\n",
       "      <th>size</th>\n",
       "    </tr>\n",
       "  </thead>\n",
       "  <tbody>\n",
       "    <tr>\n",
       "      <th>0</th>\n",
       "      <td>Afghanistan</td>\n",
       "      <td>2020-01-22</td>\n",
       "      <td>0</td>\n",
       "      <td>0</td>\n",
       "      <td>38928.3</td>\n",
       "      <td>59.6274</td>\n",
       "      <td>652860</td>\n",
       "    </tr>\n",
       "    <tr>\n",
       "      <th>1</th>\n",
       "      <td>Afghanistan</td>\n",
       "      <td>2020-01-23</td>\n",
       "      <td>0</td>\n",
       "      <td>0</td>\n",
       "      <td>38928.3</td>\n",
       "      <td>59.6274</td>\n",
       "      <td>652860</td>\n",
       "    </tr>\n",
       "    <tr>\n",
       "      <th>2</th>\n",
       "      <td>Afghanistan</td>\n",
       "      <td>2020-01-24</td>\n",
       "      <td>0</td>\n",
       "      <td>0</td>\n",
       "      <td>38928.3</td>\n",
       "      <td>59.6274</td>\n",
       "      <td>652860</td>\n",
       "    </tr>\n",
       "    <tr>\n",
       "      <th>3</th>\n",
       "      <td>Afghanistan</td>\n",
       "      <td>2020-01-25</td>\n",
       "      <td>0</td>\n",
       "      <td>0</td>\n",
       "      <td>38928.3</td>\n",
       "      <td>59.6274</td>\n",
       "      <td>652860</td>\n",
       "    </tr>\n",
       "    <tr>\n",
       "      <th>4</th>\n",
       "      <td>Afghanistan</td>\n",
       "      <td>2020-01-26</td>\n",
       "      <td>0</td>\n",
       "      <td>0</td>\n",
       "      <td>38928.3</td>\n",
       "      <td>59.6274</td>\n",
       "      <td>652860</td>\n",
       "    </tr>\n",
       "    <tr>\n",
       "      <th>...</th>\n",
       "      <td>...</td>\n",
       "      <td>...</td>\n",
       "      <td>...</td>\n",
       "      <td>...</td>\n",
       "      <td>...</td>\n",
       "      <td>...</td>\n",
       "      <td>...</td>\n",
       "    </tr>\n",
       "    <tr>\n",
       "      <th>10426</th>\n",
       "      <td>Zimbabwe</td>\n",
       "      <td>2020-03-18</td>\n",
       "      <td>0</td>\n",
       "      <td>0</td>\n",
       "      <td>14862.9</td>\n",
       "      <td>38.4204</td>\n",
       "      <td>386850</td>\n",
       "    </tr>\n",
       "    <tr>\n",
       "      <th>10427</th>\n",
       "      <td>Zimbabwe</td>\n",
       "      <td>2020-03-19</td>\n",
       "      <td>0</td>\n",
       "      <td>0</td>\n",
       "      <td>14862.9</td>\n",
       "      <td>38.4204</td>\n",
       "      <td>386850</td>\n",
       "    </tr>\n",
       "    <tr>\n",
       "      <th>10428</th>\n",
       "      <td>Zimbabwe</td>\n",
       "      <td>2020-03-20</td>\n",
       "      <td>1</td>\n",
       "      <td>0</td>\n",
       "      <td>14862.9</td>\n",
       "      <td>38.4204</td>\n",
       "      <td>386850</td>\n",
       "    </tr>\n",
       "    <tr>\n",
       "      <th>10429</th>\n",
       "      <td>Zimbabwe</td>\n",
       "      <td>2020-03-21</td>\n",
       "      <td>3</td>\n",
       "      <td>0</td>\n",
       "      <td>14862.9</td>\n",
       "      <td>38.4204</td>\n",
       "      <td>386850</td>\n",
       "    </tr>\n",
       "    <tr>\n",
       "      <th>10430</th>\n",
       "      <td>Zimbabwe</td>\n",
       "      <td>2020-03-22</td>\n",
       "      <td>3</td>\n",
       "      <td>0</td>\n",
       "      <td>14862.9</td>\n",
       "      <td>38.4204</td>\n",
       "      <td>386850</td>\n",
       "    </tr>\n",
       "  </tbody>\n",
       "</table>\n",
       "<p>10431 rows × 7 columns</p>\n",
       "</div>"
      ],
      "text/plain": [
       "           country       date  case  death population  density    size\n",
       "0      Afghanistan 2020-01-22     0      0    38928.3  59.6274  652860\n",
       "1      Afghanistan 2020-01-23     0      0    38928.3  59.6274  652860\n",
       "2      Afghanistan 2020-01-24     0      0    38928.3  59.6274  652860\n",
       "3      Afghanistan 2020-01-25     0      0    38928.3  59.6274  652860\n",
       "4      Afghanistan 2020-01-26     0      0    38928.3  59.6274  652860\n",
       "...            ...        ...   ...    ...        ...      ...     ...\n",
       "10426     Zimbabwe 2020-03-18     0      0    14862.9  38.4204  386850\n",
       "10427     Zimbabwe 2020-03-19     0      0    14862.9  38.4204  386850\n",
       "10428     Zimbabwe 2020-03-20     1      0    14862.9  38.4204  386850\n",
       "10429     Zimbabwe 2020-03-21     3      0    14862.9  38.4204  386850\n",
       "10430     Zimbabwe 2020-03-22     3      0    14862.9  38.4204  386850\n",
       "\n",
       "[10431 rows x 7 columns]"
      ]
     },
     "execution_count": 21,
     "metadata": {},
     "output_type": "execute_result"
    }
   ],
   "source": [
    "df_dataset"
   ]
  },
  {
   "cell_type": "code",
   "execution_count": 22,
   "metadata": {},
   "outputs": [],
   "source": [
    "## Calculate the age of crisis"
   ]
  },
  {
   "cell_type": "code",
   "execution_count": 23,
   "metadata": {},
   "outputs": [],
   "source": [
    "ratio_crisis = 0.5\n",
    "death_crisis = 10"
   ]
  },
  {
   "cell_type": "code",
   "execution_count": 24,
   "metadata": {},
   "outputs": [],
   "source": [
    "df_dataset['ratio'] = df_dataset['case'] / df_dataset['population'] * 100\n",
    "df_dataset['ratio_death'] = df_dataset['death'] / df_dataset['population'] * 100"
   ]
  },
  {
   "cell_type": "code",
   "execution_count": 25,
   "metadata": {},
   "outputs": [
    {
     "data": {
      "text/html": [
       "<div>\n",
       "<style scoped>\n",
       "    .dataframe tbody tr th:only-of-type {\n",
       "        vertical-align: middle;\n",
       "    }\n",
       "\n",
       "    .dataframe tbody tr th {\n",
       "        vertical-align: top;\n",
       "    }\n",
       "\n",
       "    .dataframe thead th {\n",
       "        text-align: right;\n",
       "    }\n",
       "</style>\n",
       "<table border=\"1\" class=\"dataframe\">\n",
       "  <thead>\n",
       "    <tr style=\"text-align: right;\">\n",
       "      <th></th>\n",
       "      <th>country</th>\n",
       "      <th>date</th>\n",
       "      <th>case</th>\n",
       "      <th>death</th>\n",
       "      <th>population</th>\n",
       "      <th>density</th>\n",
       "      <th>size</th>\n",
       "      <th>ratio</th>\n",
       "      <th>ratio_death</th>\n",
       "    </tr>\n",
       "  </thead>\n",
       "  <tbody>\n",
       "    <tr>\n",
       "      <th>0</th>\n",
       "      <td>Afghanistan</td>\n",
       "      <td>2020-01-22</td>\n",
       "      <td>0</td>\n",
       "      <td>0</td>\n",
       "      <td>38928.3</td>\n",
       "      <td>59.6274</td>\n",
       "      <td>652860</td>\n",
       "      <td>0</td>\n",
       "      <td>0</td>\n",
       "    </tr>\n",
       "    <tr>\n",
       "      <th>1</th>\n",
       "      <td>Afghanistan</td>\n",
       "      <td>2020-01-23</td>\n",
       "      <td>0</td>\n",
       "      <td>0</td>\n",
       "      <td>38928.3</td>\n",
       "      <td>59.6274</td>\n",
       "      <td>652860</td>\n",
       "      <td>0</td>\n",
       "      <td>0</td>\n",
       "    </tr>\n",
       "    <tr>\n",
       "      <th>2</th>\n",
       "      <td>Afghanistan</td>\n",
       "      <td>2020-01-24</td>\n",
       "      <td>0</td>\n",
       "      <td>0</td>\n",
       "      <td>38928.3</td>\n",
       "      <td>59.6274</td>\n",
       "      <td>652860</td>\n",
       "      <td>0</td>\n",
       "      <td>0</td>\n",
       "    </tr>\n",
       "    <tr>\n",
       "      <th>3</th>\n",
       "      <td>Afghanistan</td>\n",
       "      <td>2020-01-25</td>\n",
       "      <td>0</td>\n",
       "      <td>0</td>\n",
       "      <td>38928.3</td>\n",
       "      <td>59.6274</td>\n",
       "      <td>652860</td>\n",
       "      <td>0</td>\n",
       "      <td>0</td>\n",
       "    </tr>\n",
       "    <tr>\n",
       "      <th>4</th>\n",
       "      <td>Afghanistan</td>\n",
       "      <td>2020-01-26</td>\n",
       "      <td>0</td>\n",
       "      <td>0</td>\n",
       "      <td>38928.3</td>\n",
       "      <td>59.6274</td>\n",
       "      <td>652860</td>\n",
       "      <td>0</td>\n",
       "      <td>0</td>\n",
       "    </tr>\n",
       "    <tr>\n",
       "      <th>...</th>\n",
       "      <td>...</td>\n",
       "      <td>...</td>\n",
       "      <td>...</td>\n",
       "      <td>...</td>\n",
       "      <td>...</td>\n",
       "      <td>...</td>\n",
       "      <td>...</td>\n",
       "      <td>...</td>\n",
       "      <td>...</td>\n",
       "    </tr>\n",
       "    <tr>\n",
       "      <th>10426</th>\n",
       "      <td>Zimbabwe</td>\n",
       "      <td>2020-03-18</td>\n",
       "      <td>0</td>\n",
       "      <td>0</td>\n",
       "      <td>14862.9</td>\n",
       "      <td>38.4204</td>\n",
       "      <td>386850</td>\n",
       "      <td>0</td>\n",
       "      <td>0</td>\n",
       "    </tr>\n",
       "    <tr>\n",
       "      <th>10427</th>\n",
       "      <td>Zimbabwe</td>\n",
       "      <td>2020-03-19</td>\n",
       "      <td>0</td>\n",
       "      <td>0</td>\n",
       "      <td>14862.9</td>\n",
       "      <td>38.4204</td>\n",
       "      <td>386850</td>\n",
       "      <td>0</td>\n",
       "      <td>0</td>\n",
       "    </tr>\n",
       "    <tr>\n",
       "      <th>10428</th>\n",
       "      <td>Zimbabwe</td>\n",
       "      <td>2020-03-20</td>\n",
       "      <td>1</td>\n",
       "      <td>0</td>\n",
       "      <td>14862.9</td>\n",
       "      <td>38.4204</td>\n",
       "      <td>386850</td>\n",
       "      <td>0.00672815</td>\n",
       "      <td>0</td>\n",
       "    </tr>\n",
       "    <tr>\n",
       "      <th>10429</th>\n",
       "      <td>Zimbabwe</td>\n",
       "      <td>2020-03-21</td>\n",
       "      <td>3</td>\n",
       "      <td>0</td>\n",
       "      <td>14862.9</td>\n",
       "      <td>38.4204</td>\n",
       "      <td>386850</td>\n",
       "      <td>0.0201844</td>\n",
       "      <td>0</td>\n",
       "    </tr>\n",
       "    <tr>\n",
       "      <th>10430</th>\n",
       "      <td>Zimbabwe</td>\n",
       "      <td>2020-03-22</td>\n",
       "      <td>3</td>\n",
       "      <td>0</td>\n",
       "      <td>14862.9</td>\n",
       "      <td>38.4204</td>\n",
       "      <td>386850</td>\n",
       "      <td>0.0201844</td>\n",
       "      <td>0</td>\n",
       "    </tr>\n",
       "  </tbody>\n",
       "</table>\n",
       "<p>10431 rows × 9 columns</p>\n",
       "</div>"
      ],
      "text/plain": [
       "           country       date  case  death population  density    size  \\\n",
       "0      Afghanistan 2020-01-22     0      0    38928.3  59.6274  652860   \n",
       "1      Afghanistan 2020-01-23     0      0    38928.3  59.6274  652860   \n",
       "2      Afghanistan 2020-01-24     0      0    38928.3  59.6274  652860   \n",
       "3      Afghanistan 2020-01-25     0      0    38928.3  59.6274  652860   \n",
       "4      Afghanistan 2020-01-26     0      0    38928.3  59.6274  652860   \n",
       "...            ...        ...   ...    ...        ...      ...     ...   \n",
       "10426     Zimbabwe 2020-03-18     0      0    14862.9  38.4204  386850   \n",
       "10427     Zimbabwe 2020-03-19     0      0    14862.9  38.4204  386850   \n",
       "10428     Zimbabwe 2020-03-20     1      0    14862.9  38.4204  386850   \n",
       "10429     Zimbabwe 2020-03-21     3      0    14862.9  38.4204  386850   \n",
       "10430     Zimbabwe 2020-03-22     3      0    14862.9  38.4204  386850   \n",
       "\n",
       "            ratio ratio_death  \n",
       "0               0           0  \n",
       "1               0           0  \n",
       "2               0           0  \n",
       "3               0           0  \n",
       "4               0           0  \n",
       "...           ...         ...  \n",
       "10426           0           0  \n",
       "10427           0           0  \n",
       "10428  0.00672815           0  \n",
       "10429   0.0201844           0  \n",
       "10430   0.0201844           0  \n",
       "\n",
       "[10431 rows x 9 columns]"
      ]
     },
     "execution_count": 25,
     "metadata": {},
     "output_type": "execute_result"
    }
   ],
   "source": [
    "# check data\n",
    "df_dataset"
   ]
  },
  {
   "cell_type": "markdown",
   "metadata": {},
   "source": [
    "### calculate ref data for crisis"
   ]
  },
  {
   "cell_type": "code",
   "execution_count": 26,
   "metadata": {},
   "outputs": [],
   "source": [
    "serie_epidemic_start_date = df_dataset[df_dataset['ratio'] > ratio_crisis].groupby('country').min()['date']\n",
    "serie_epidemic_death_start_date = df_dataset[df_dataset['death'] > death_crisis].groupby('country').min()['date']"
   ]
  },
  {
   "cell_type": "code",
   "execution_count": 27,
   "metadata": {},
   "outputs": [
    {
     "data": {
      "text/plain": [
       "country\n",
       "Algeria          2020-03-20\n",
       "Austria          2020-03-22\n",
       "Belgium          2020-03-18\n",
       "Brazil           2020-03-20\n",
       "Canada           2020-03-20\n",
       "China            2020-01-22\n",
       "Denmark          2020-03-21\n",
       "Ecuador          2020-03-22\n",
       "Egypt            2020-03-22\n",
       "France           2020-03-07\n",
       "Germany          2020-03-15\n",
       "Greece           2020-03-21\n",
       "Indonesia        2020-03-18\n",
       "Iran             2020-02-24\n",
       "Iraq             2020-03-17\n",
       "Italy            2020-02-26\n",
       "Japan            2020-03-11\n",
       "Netherlands      2020-03-14\n",
       "Philippines      2020-03-15\n",
       "Portugal         2020-03-21\n",
       "San Marino       2020-03-18\n",
       "South Korea      2020-02-26\n",
       "Spain            2020-03-08\n",
       "Sweden           2020-03-19\n",
       "Switzerland      2020-03-13\n",
       "Turkey           2020-03-22\n",
       "US               2020-03-04\n",
       "United Kingdom   2020-03-14\n",
       "Name: date, dtype: datetime64[ns]"
      ]
     },
     "execution_count": 27,
     "metadata": {},
     "output_type": "execute_result"
    }
   ],
   "source": [
    "serie_epidemic_death_start_date"
   ]
  },
  {
   "cell_type": "code",
   "execution_count": 28,
   "metadata": {},
   "outputs": [],
   "source": [
    "# cases\n",
    "df_epidemic_start = pd.DataFrame(serie_epidemic_start_date)\n",
    "df_epidemic_start.columns = ['start_date']\n",
    "# deaths\n",
    "df_epidemic_death_start = pd.DataFrame(serie_epidemic_death_start_date)\n",
    "df_epidemic_death_start.columns = ['start_death_date']"
   ]
  },
  {
   "cell_type": "markdown",
   "metadata": {},
   "source": [
    "### add start date to dataset"
   ]
  },
  {
   "cell_type": "code",
   "execution_count": 29,
   "metadata": {},
   "outputs": [],
   "source": [
    "df_dataset = df_dataset.join(df_epidemic_start, how='right', on='country')\n",
    "df_dataset = df_dataset.join(df_epidemic_death_start, how='right', on='country')"
   ]
  },
  {
   "cell_type": "code",
   "execution_count": 30,
   "metadata": {},
   "outputs": [],
   "source": [
    "df_dataset['age'] = (df_dataset['date'] - df_dataset['start_date']).dt.days\n",
    "df_dataset['age_death'] = (df_dataset['date'] - df_dataset['start_death_date']).dt.days"
   ]
  },
  {
   "cell_type": "code",
   "execution_count": 31,
   "metadata": {},
   "outputs": [
    {
     "data": {
      "text/html": [
       "<div>\n",
       "<style scoped>\n",
       "    .dataframe tbody tr th:only-of-type {\n",
       "        vertical-align: middle;\n",
       "    }\n",
       "\n",
       "    .dataframe tbody tr th {\n",
       "        vertical-align: top;\n",
       "    }\n",
       "\n",
       "    .dataframe thead th {\n",
       "        text-align: right;\n",
       "    }\n",
       "</style>\n",
       "<table border=\"1\" class=\"dataframe\">\n",
       "  <thead>\n",
       "    <tr style=\"text-align: right;\">\n",
       "      <th></th>\n",
       "      <th>country</th>\n",
       "      <th>date</th>\n",
       "      <th>case</th>\n",
       "      <th>death</th>\n",
       "      <th>population</th>\n",
       "      <th>density</th>\n",
       "      <th>size</th>\n",
       "      <th>ratio</th>\n",
       "      <th>ratio_death</th>\n",
       "      <th>start_date</th>\n",
       "      <th>start_death_date</th>\n",
       "      <th>age</th>\n",
       "      <th>age_death</th>\n",
       "    </tr>\n",
       "  </thead>\n",
       "  <tbody>\n",
       "    <tr>\n",
       "      <th>549.0</th>\n",
       "      <td>Austria</td>\n",
       "      <td>2020-01-22</td>\n",
       "      <td>0.0</td>\n",
       "      <td>0.0</td>\n",
       "      <td>9006.4</td>\n",
       "      <td>109.289</td>\n",
       "      <td>82409</td>\n",
       "      <td>0</td>\n",
       "      <td>0</td>\n",
       "      <td>2020-03-06</td>\n",
       "      <td>2020-03-22</td>\n",
       "      <td>-44.0</td>\n",
       "      <td>-60.0</td>\n",
       "    </tr>\n",
       "    <tr>\n",
       "      <th>550.0</th>\n",
       "      <td>Austria</td>\n",
       "      <td>2020-01-23</td>\n",
       "      <td>0.0</td>\n",
       "      <td>0.0</td>\n",
       "      <td>9006.4</td>\n",
       "      <td>109.289</td>\n",
       "      <td>82409</td>\n",
       "      <td>0</td>\n",
       "      <td>0</td>\n",
       "      <td>2020-03-06</td>\n",
       "      <td>2020-03-22</td>\n",
       "      <td>-43.0</td>\n",
       "      <td>-59.0</td>\n",
       "    </tr>\n",
       "    <tr>\n",
       "      <th>551.0</th>\n",
       "      <td>Austria</td>\n",
       "      <td>2020-01-24</td>\n",
       "      <td>0.0</td>\n",
       "      <td>0.0</td>\n",
       "      <td>9006.4</td>\n",
       "      <td>109.289</td>\n",
       "      <td>82409</td>\n",
       "      <td>0</td>\n",
       "      <td>0</td>\n",
       "      <td>2020-03-06</td>\n",
       "      <td>2020-03-22</td>\n",
       "      <td>-42.0</td>\n",
       "      <td>-58.0</td>\n",
       "    </tr>\n",
       "    <tr>\n",
       "      <th>552.0</th>\n",
       "      <td>Austria</td>\n",
       "      <td>2020-01-25</td>\n",
       "      <td>0.0</td>\n",
       "      <td>0.0</td>\n",
       "      <td>9006.4</td>\n",
       "      <td>109.289</td>\n",
       "      <td>82409</td>\n",
       "      <td>0</td>\n",
       "      <td>0</td>\n",
       "      <td>2020-03-06</td>\n",
       "      <td>2020-03-22</td>\n",
       "      <td>-41.0</td>\n",
       "      <td>-57.0</td>\n",
       "    </tr>\n",
       "    <tr>\n",
       "      <th>553.0</th>\n",
       "      <td>Austria</td>\n",
       "      <td>2020-01-26</td>\n",
       "      <td>0.0</td>\n",
       "      <td>0.0</td>\n",
       "      <td>9006.4</td>\n",
       "      <td>109.289</td>\n",
       "      <td>82409</td>\n",
       "      <td>0</td>\n",
       "      <td>0</td>\n",
       "      <td>2020-03-06</td>\n",
       "      <td>2020-03-22</td>\n",
       "      <td>-40.0</td>\n",
       "      <td>-56.0</td>\n",
       "    </tr>\n",
       "    <tr>\n",
       "      <th>...</th>\n",
       "      <td>...</td>\n",
       "      <td>...</td>\n",
       "      <td>...</td>\n",
       "      <td>...</td>\n",
       "      <td>...</td>\n",
       "      <td>...</td>\n",
       "      <td>...</td>\n",
       "      <td>...</td>\n",
       "      <td>...</td>\n",
       "      <td>...</td>\n",
       "      <td>...</td>\n",
       "      <td>...</td>\n",
       "      <td>...</td>\n",
       "    </tr>\n",
       "    <tr>\n",
       "      <th>10064.0</th>\n",
       "      <td>United Kingdom</td>\n",
       "      <td>2020-03-22</td>\n",
       "      <td>5741.0</td>\n",
       "      <td>282.0</td>\n",
       "      <td>67886</td>\n",
       "      <td>280.602</td>\n",
       "      <td>241930</td>\n",
       "      <td>8.45682</td>\n",
       "      <td>0.415402</td>\n",
       "      <td>2020-03-10</td>\n",
       "      <td>2020-03-14</td>\n",
       "      <td>12.0</td>\n",
       "      <td>8.0</td>\n",
       "    </tr>\n",
       "    <tr>\n",
       "      <th>NaN</th>\n",
       "      <td>Algeria</td>\n",
       "      <td>NaT</td>\n",
       "      <td>NaN</td>\n",
       "      <td>NaN</td>\n",
       "      <td>NaN</td>\n",
       "      <td>NaN</td>\n",
       "      <td>NaN</td>\n",
       "      <td>NaN</td>\n",
       "      <td>NaN</td>\n",
       "      <td>NaT</td>\n",
       "      <td>2020-03-20</td>\n",
       "      <td>NaN</td>\n",
       "      <td>NaN</td>\n",
       "    </tr>\n",
       "    <tr>\n",
       "      <th>NaN</th>\n",
       "      <td>Egypt</td>\n",
       "      <td>NaT</td>\n",
       "      <td>NaN</td>\n",
       "      <td>NaN</td>\n",
       "      <td>NaN</td>\n",
       "      <td>NaN</td>\n",
       "      <td>NaN</td>\n",
       "      <td>NaN</td>\n",
       "      <td>NaN</td>\n",
       "      <td>NaT</td>\n",
       "      <td>2020-03-22</td>\n",
       "      <td>NaN</td>\n",
       "      <td>NaN</td>\n",
       "    </tr>\n",
       "    <tr>\n",
       "      <th>NaN</th>\n",
       "      <td>Indonesia</td>\n",
       "      <td>NaT</td>\n",
       "      <td>NaN</td>\n",
       "      <td>NaN</td>\n",
       "      <td>NaN</td>\n",
       "      <td>NaN</td>\n",
       "      <td>NaN</td>\n",
       "      <td>NaN</td>\n",
       "      <td>NaN</td>\n",
       "      <td>NaT</td>\n",
       "      <td>2020-03-18</td>\n",
       "      <td>NaN</td>\n",
       "      <td>NaN</td>\n",
       "    </tr>\n",
       "    <tr>\n",
       "      <th>NaN</th>\n",
       "      <td>Philippines</td>\n",
       "      <td>NaT</td>\n",
       "      <td>NaN</td>\n",
       "      <td>NaN</td>\n",
       "      <td>NaN</td>\n",
       "      <td>NaN</td>\n",
       "      <td>NaN</td>\n",
       "      <td>NaN</td>\n",
       "      <td>NaN</td>\n",
       "      <td>NaT</td>\n",
       "      <td>2020-03-15</td>\n",
       "      <td>NaN</td>\n",
       "      <td>NaN</td>\n",
       "    </tr>\n",
       "  </tbody>\n",
       "</table>\n",
       "<p>1468 rows × 13 columns</p>\n",
       "</div>"
      ],
      "text/plain": [
       "                country       date    case  death population  density    size  \\\n",
       "549.0           Austria 2020-01-22     0.0    0.0     9006.4  109.289   82409   \n",
       "550.0           Austria 2020-01-23     0.0    0.0     9006.4  109.289   82409   \n",
       "551.0           Austria 2020-01-24     0.0    0.0     9006.4  109.289   82409   \n",
       "552.0           Austria 2020-01-25     0.0    0.0     9006.4  109.289   82409   \n",
       "553.0           Austria 2020-01-26     0.0    0.0     9006.4  109.289   82409   \n",
       "...                 ...        ...     ...    ...        ...      ...     ...   \n",
       "10064.0  United Kingdom 2020-03-22  5741.0  282.0      67886  280.602  241930   \n",
       "NaN             Algeria        NaT     NaN    NaN        NaN      NaN     NaN   \n",
       "NaN               Egypt        NaT     NaN    NaN        NaN      NaN     NaN   \n",
       "NaN           Indonesia        NaT     NaN    NaN        NaN      NaN     NaN   \n",
       "NaN         Philippines        NaT     NaN    NaN        NaN      NaN     NaN   \n",
       "\n",
       "           ratio ratio_death start_date start_death_date   age  age_death  \n",
       "549.0          0           0 2020-03-06       2020-03-22 -44.0      -60.0  \n",
       "550.0          0           0 2020-03-06       2020-03-22 -43.0      -59.0  \n",
       "551.0          0           0 2020-03-06       2020-03-22 -42.0      -58.0  \n",
       "552.0          0           0 2020-03-06       2020-03-22 -41.0      -57.0  \n",
       "553.0          0           0 2020-03-06       2020-03-22 -40.0      -56.0  \n",
       "...          ...         ...        ...              ...   ...        ...  \n",
       "10064.0  8.45682    0.415402 2020-03-10       2020-03-14  12.0        8.0  \n",
       "NaN          NaN         NaN        NaT       2020-03-20   NaN        NaN  \n",
       "NaN          NaN         NaN        NaT       2020-03-22   NaN        NaN  \n",
       "NaN          NaN         NaN        NaT       2020-03-18   NaN        NaN  \n",
       "NaN          NaN         NaN        NaT       2020-03-15   NaN        NaN  \n",
       "\n",
       "[1468 rows x 13 columns]"
      ]
     },
     "execution_count": 31,
     "metadata": {},
     "output_type": "execute_result"
    }
   ],
   "source": [
    "#check data\n",
    "df_dataset"
   ]
  },
  {
   "cell_type": "code",
   "execution_count": null,
   "metadata": {},
   "outputs": [],
   "source": []
  },
  {
   "cell_type": "markdown",
   "metadata": {},
   "source": [
    "## Saving final data"
   ]
  },
  {
   "cell_type": "code",
   "execution_count": 32,
   "metadata": {},
   "outputs": [],
   "source": [
    "df_dataset.to_csv('dataset.csv')"
   ]
  },
  {
   "cell_type": "code",
   "execution_count": null,
   "metadata": {},
   "outputs": [],
   "source": []
  }
 ],
 "metadata": {
  "kernelspec": {
   "display_name": "Python 3",
   "language": "python",
   "name": "python3"
  },
  "language_info": {
   "codemirror_mode": {
    "name": "ipython",
    "version": 3
   },
   "file_extension": ".py",
   "mimetype": "text/x-python",
   "name": "python",
   "nbconvert_exporter": "python",
   "pygments_lexer": "ipython3",
   "version": "3.6.5"
  }
 },
 "nbformat": 4,
 "nbformat_minor": 4
}
